{
 "cells": [
  {
   "cell_type": "code",
   "execution_count": 1,
   "metadata": {},
   "outputs": [
    {
     "name": "stdout",
     "output_type": "stream",
     "text": [
      "Input:\n",
      "\n",
      "{'Grammer', 'sentences', 'Pitch', 'words'}\n",
      "{'Context', 'Pitch', 'words', 'phonetics', 'Grammer'}\n",
      "\n",
      "Output:\n",
      "\n",
      "Union of the defined sets :\n",
      " {'Context', 'sentences', 'Pitch', 'phonetics', 'Grammer', 'words'}\n",
      "Intersection of the defined sets :\n",
      " {'Grammer', 'Pitch', 'words'}\n",
      "Difference of the defined sets:\n",
      " {'sentences'}\n",
      "Symmetric difference of the defined sets:\n",
      " {'Context', 'sentences', 'phonetics'}\n"
     ]
    }
   ],
   "source": [
    "#Exp.No:5.a                  Language\n",
    "\n",
    "language1={\"Grammer\",\"words\",\"sentences\",\"Pitch\"}\n",
    "language2={\"words\",\"phonetics\",\"Grammer\",\"Pitch\",\"Context\"}\n",
    "\n",
    "print(\"Input:\\n\")\n",
    "print(language1)\n",
    "print(language2)\n",
    "print(\"\")\n",
    "#Union of two sets\n",
    "print(\"Output:\\n\")\n",
    "print(\"Union of the defined sets :\\n\", language1 | language2)\n",
    "\n",
    "print(\"Intersection of the defined sets :\\n\", language1 & language2)\n",
    "print(\"Difference of the defined sets:\\n\", language1-language2)\n",
    "print(\"Symmetric difference of the defined sets:\\n\", language1^language2)"
   ]
  }
 ],
 "metadata": {
  "kernelspec": {
   "display_name": "Python 3",
   "language": "python",
   "name": "python3"
  },
  "language_info": {
   "codemirror_mode": {
    "name": "ipython",
    "version": 3
   },
   "file_extension": ".py",
   "mimetype": "text/x-python",
   "name": "python",
   "nbconvert_exporter": "python",
   "pygments_lexer": "ipython3",
   "version": "3.12.6"
  }
 },
 "nbformat": 4,
 "nbformat_minor": 2
}
