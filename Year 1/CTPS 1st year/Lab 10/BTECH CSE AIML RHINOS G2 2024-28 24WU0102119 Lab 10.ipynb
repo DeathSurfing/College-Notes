{
 "cells": [
  {
   "cell_type": "code",
   "execution_count": 15,
   "metadata": {},
   "outputs": [
    {
     "name": "stdout",
     "output_type": "stream",
     "text": [
      "Result: 20.0\n",
      "Eligible to vote\n",
      "Valid mark range\n"
     ]
    }
   ],
   "source": [
    "def zerodivcheck(num1, num2):\n",
    "    if num2 == 0:\n",
    "        raise ZeroDivisionError(\"Error: Division by zero\")\n",
    "    else:\n",
    "        result = num1 / num2\n",
    "        print(\"Result:\", result)\n",
    "\n",
    "\n",
    "def votersagecheck(age):\n",
    "    if age < 18:\n",
    "        raise ValueError(\"Not eligible to vote\")\n",
    "    else:\n",
    "        print(\"Eligible to vote\")\n",
    "        \n",
    "def studentmarkrangevalidation(mark):\n",
    "    if mark < 0 or mark > 100:\n",
    "        raise ValueError(\"Invalid mark range\")\n",
    "    else:\n",
    "        print(\"Valid mark range\")\n",
    "\n",
    "zerodivcheck(200,10)\n",
    "votersagecheck(19)\n",
    "studentmarkrangevalidation(99)"
   ]
  }
 ],
 "metadata": {
  "kernelspec": {
   "display_name": "Python 3",
   "language": "python",
   "name": "python3"
  },
  "language_info": {
   "codemirror_mode": {
    "name": "ipython",
    "version": 3
   },
   "file_extension": ".py",
   "mimetype": "text/x-python",
   "name": "python",
   "nbconvert_exporter": "python",
   "pygments_lexer": "ipython3",
   "version": "3.12.6"
  }
 },
 "nbformat": 4,
 "nbformat_minor": 2
}
