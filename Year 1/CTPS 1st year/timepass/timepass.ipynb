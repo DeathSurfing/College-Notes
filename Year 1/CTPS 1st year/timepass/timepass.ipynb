{
 "cells": [
  {
   "cell_type": "code",
   "execution_count": 59,
   "metadata": {},
   "outputs": [
    {
     "name": "stdout",
     "output_type": "stream",
     "text": [
      "The String contains u :1 Times\n",
      "The String contains a :2 Times\n",
      "The String contains i :1 Times\n",
      "The String contains e :1 Times\n"
     ]
    }
   ],
   "source": [
    "str=\"teri maa gu\"\n",
    "\n",
    "vowels=set([\"a\",\"e\",\"i\",\"o\",\"u\"])\n",
    "a=set(str.lower())\n",
    "b=a.intersection(vowels)\n",
    "\n",
    "for i in b:\n",
    "    count= str.lower().count(i)\n",
    "    print(f\"The String contains {i} :{count} Times\")"
   ]
  }
 ],
 "metadata": {
  "kernelspec": {
   "display_name": "Python 3",
   "language": "python",
   "name": "python3"
  },
  "language_info": {
   "codemirror_mode": {
    "name": "ipython",
    "version": 3
   },
   "file_extension": ".py",
   "mimetype": "text/x-python",
   "name": "python",
   "nbconvert_exporter": "python",
   "pygments_lexer": "ipython3",
   "version": "3.12.6"
  }
 },
 "nbformat": 4,
 "nbformat_minor": 2
}
