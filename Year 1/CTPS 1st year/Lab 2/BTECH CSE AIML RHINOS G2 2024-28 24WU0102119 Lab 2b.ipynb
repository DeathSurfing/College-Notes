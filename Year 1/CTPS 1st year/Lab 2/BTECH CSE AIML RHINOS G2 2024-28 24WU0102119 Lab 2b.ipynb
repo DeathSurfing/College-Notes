{
 "cells": [
  {
   "cell_type": "markdown",
   "metadata": {},
   "source": [
    "# Circulate the values of n variables\n"
   ]
  },
  {
   "cell_type": "code",
   "execution_count": 5,
   "metadata": {},
   "outputs": [
    {
     "name": "stdout",
     "output_type": "stream",
     "text": [
      "Intial A[1, 2, 3, 4, 5]\n",
      "n:2\n",
      "Circulated with n:[3, 4, 5, 1, 2]\n"
     ]
    }
   ],
   "source": [
    "def circulate(a,n):\n",
    "    circulate=a[n:]+a[:n]\n",
    "    return circulate\n",
    "a=[1,2,3,4,5]\n",
    "n=2\n",
    "print(f\"Intial A{a}\\nn:{n}\\nCirculated with n:{circulate(a,n)}\")"
   ]
  }
 ],
 "metadata": {
  "kernelspec": {
   "display_name": "Python 3",
   "language": "python",
   "name": "python3"
  },
  "language_info": {
   "codemirror_mode": {
    "name": "ipython",
    "version": 3
   },
   "file_extension": ".py",
   "mimetype": "text/x-python",
   "name": "python",
   "nbconvert_exporter": "python",
   "pygments_lexer": "ipython3",
   "version": "3.12.6"
  }
 },
 "nbformat": 4,
 "nbformat_minor": 2
}
