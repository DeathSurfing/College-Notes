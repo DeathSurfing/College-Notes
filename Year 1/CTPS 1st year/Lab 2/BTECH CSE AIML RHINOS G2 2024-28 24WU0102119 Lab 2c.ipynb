{
 "cells": [
  {
   "cell_type": "code",
   "execution_count": 1,
   "metadata": {},
   "outputs": [
    {
     "name": "stdout",
     "output_type": "stream",
     "text": [
      "Distance of two points x:10,y:20\n",
      " Distance:22.360679774997898\n"
     ]
    }
   ],
   "source": [
    "def calcdist(a,b):\n",
    "    dist=(a**2+b**2)**(1/2)\n",
    "    return dist\n",
    "\n",
    "x=int(input(\"Value of X\"))\n",
    "y=int(input(\"Value of Y\"))\n",
    "print(f\"Distance of two points x:{x},y:{y}\\n Distance:{calcdist(x,y)}\")"
   ]
  }
 ],
 "metadata": {
  "kernelspec": {
   "display_name": "Python 3",
   "language": "python",
   "name": "python3"
  },
  "language_info": {
   "codemirror_mode": {
    "name": "ipython",
    "version": 3
   },
   "file_extension": ".py",
   "mimetype": "text/x-python",
   "name": "python",
   "nbconvert_exporter": "python",
   "pygments_lexer": "ipython3",
   "version": "3.12.6"
  }
 },
 "nbformat": 4,
 "nbformat_minor": 2
}
