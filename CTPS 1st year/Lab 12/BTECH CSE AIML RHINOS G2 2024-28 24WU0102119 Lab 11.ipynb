{
 "cells": [
  {
   "cell_type": "code",
   "execution_count": 1,
   "metadata": {},
   "outputs": [
    {
     "name": "stdout",
     "output_type": "stream",
     "text": [
      "pygame 2.6.1 (SDL 2.28.4, Python 3.12.6)\n",
      "Hello from the pygame community. https://www.pygame.org/contribute.html\n"
     ]
    },
    {
     "name": "stderr",
     "output_type": "stream",
     "text": [
      "2024-12-02 16:40:06.635 Python[2335:2986275] +[IMKClient subclass]: chose IMKClient_Modern\n",
      "2024-12-02 16:40:06.635 Python[2335:2986275] +[IMKInputSession subclass]: chose IMKInputSession_Modern\n"
     ]
    },
    {
     "ename": "",
     "evalue": "",
     "output_type": "error",
     "traceback": [
      "\u001b[1;31mThe Kernel crashed while executing code in the current cell or a previous cell. \n",
      "\u001b[1;31mPlease review the code in the cell(s) to identify a possible cause of the failure. \n",
      "\u001b[1;31mClick <a href='https://aka.ms/vscodeJupyterKernelCrash'>here</a> for more info. \n",
      "\u001b[1;31mView Jupyter <a href='command:jupyter.viewOutput'>log</a> for further details."
     ]
    }
   ],
   "source": [
    "import pygame\n",
    " \n",
    "pygame.init()\n",
    " \n",
    "# Define some colors\n",
    "BLACK = (0, 0, 0)\n",
    "WHITE = (255, 255, 255)\n",
    "GREEN = (0, 255, 0)\n",
    "RED = (255, 0, 0)\n",
    " \n",
    "# Set the width and height of the screen [width, height]\n",
    "size = (700, 500)\n",
    "screen = pygame.display.set_mode(size)\n",
    " \n",
    "ball_radius=20\n",
    "ball_pos=[size[0]/2,size[1]/2]\n",
    " \n",
    "pygame.display.set_caption(\"My Game\")\n",
    " \n",
    "#Loop until the user clicks the close button.\n",
    "done = False\n",
    "clock = pygame.time.Clock()\n",
    " \n",
    "while done==False:\n",
    " \n",
    "    # This limits the while loop to a max of 10 times per second.\n",
    "    # Leave this out and we will use all CPU we can.\n",
    "    clock.tick(10)\n",
    " \n",
    "    for event in pygame.event.get(): # User did something\n",
    "        if event.type == pygame.QUIT: # If user clicked close window\n",
    "            done=True # Flag that we are done so we exit this loop\n",
    " \n",
    "    # Clear the screen and set the screen background\n",
    "    screen.fill(WHITE)\n",
    " \n",
    "    # Draw a solid circle in the color red\n",
    "    pygame.draw.circle(screen, RED, ball_pos, ball_radius)\n",
    " \n",
    "    # Go ahead and update the screen with what we've drawn.\n",
    "    pygame.display.flip()\n",
    "    \n",
    "    #update  ball position\n",
    "    ball_pos[0]+=1\n",
    "    ball_pos[1]+=1\n",
    " \n",
    "# Be IDLE friendly. If you forget this line, the program will 'hang'\n",
    "# on exit if running from IDLE.\n",
    "pygame.quit()"
   ]
  }
 ],
 "metadata": {
  "kernelspec": {
   "display_name": "Python 3",
   "language": "python",
   "name": "python3"
  },
  "language_info": {
   "codemirror_mode": {
    "name": "ipython",
    "version": 3
   },
   "file_extension": ".py",
   "mimetype": "text/x-python",
   "name": "python",
   "nbconvert_exporter": "python",
   "pygments_lexer": "ipython3",
   "version": "3.12.6"
  }
 },
 "nbformat": 4,
 "nbformat_minor": 2
}
