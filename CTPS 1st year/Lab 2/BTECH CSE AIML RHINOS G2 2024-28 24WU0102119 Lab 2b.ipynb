{
 "cells": [
  {
   "cell_type": "markdown",
   "metadata": {},
   "source": [
    "# Circulate the values of n variables\n"
   ]
  },
  {
   "cell_type": "code",
   "execution_count": null,
   "metadata": {},
   "outputs": [],
   "source": [
    "def circulate(a,n):\n",
    "    circulate=a[n:]+a[:n]\n",
    "    return circulate\n",
    "\n",
    "a=[1,2,3,4]\n",
    "n=2\n",
    "print(f\"Intial A{a}\\n n:{n} \\nCirculated with n:{circulate(a,n)}\")"
   ]
  }
 ],
 "metadata": {
  "language_info": {
   "name": "python"
  }
 },
 "nbformat": 4,
 "nbformat_minor": 2
}
