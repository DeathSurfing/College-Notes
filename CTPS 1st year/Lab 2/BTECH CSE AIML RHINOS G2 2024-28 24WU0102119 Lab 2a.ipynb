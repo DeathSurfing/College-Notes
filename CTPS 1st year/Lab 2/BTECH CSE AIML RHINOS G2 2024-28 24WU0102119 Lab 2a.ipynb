{
 "cells": [
  {
   "cell_type": "markdown",
   "metadata": {},
   "source": [
    "# Exchange Swapping the values of two variables"
   ]
  },
  {
   "cell_type": "code",
   "execution_count": 2,
   "metadata": {},
   "outputs": [
    {
     "name": "stdout",
     "output_type": "stream",
     "text": [
      "Initial Values \n",
      "A:20 , B:100\n",
      "Temp value Swap:\n",
      "A:100,B:20\n",
      "Xor Swap:\n",
      "A:100, B:20\n",
      "Assignment Swap:\n",
      "A:100, B:20\n"
     ]
    }
   ],
   "source": [
    "# Swapping using temp\n",
    "def swapwithTemp(a,b):    \n",
    "    temp=a\n",
    "    a=b\n",
    "    b=temp\n",
    "    print(f\"A:{a},B:{b}\")\n",
    "    \n",
    "# Swapping using XOR\n",
    "def xorSwap(a,b):\n",
    "    a=a^b\n",
    "    b=a^b\n",
    "    a=a^b\n",
    "    print(f\"A:{a}, B:{b}\")\n",
    "\n",
    "# Swapping using Python inbuilt assigner\n",
    "def tuppleSwap(a,b):\n",
    "    a,b=b,a\n",
    "    print(f\"A:{a}, B:{b}\")\n",
    "\n",
    "val1=20\n",
    "val2=100\n",
    "\n",
    "print(f\"Initial Values \\nA:{val1} , B:{val2}\")\n",
    "print(\"Temp value Swap:\")\n",
    "swapwithTemp(val1,val2)\n",
    "print(\"Xor Swap:\")\n",
    "xorSwap(val1,val2)\n",
    "print(\"Tupple Swap:\")\n",
    "tuppleSwap(val1,val2)"
   ]
  }
 ],
 "metadata": {
  "kernelspec": {
   "display_name": "Python 3",
   "language": "python",
   "name": "python3"
  },
  "language_info": {
   "codemirror_mode": {
    "name": "ipython",
    "version": 3
   },
   "file_extension": ".py",
   "mimetype": "text/x-python",
   "name": "python",
   "nbconvert_exporter": "python",
   "pygments_lexer": "ipython3",
   "version": "3.12.6"
  }
 },
 "nbformat": 4,
 "nbformat_minor": 2
}
