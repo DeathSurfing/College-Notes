{
 "cells": [
  {
   "cell_type": "markdown",
   "metadata": {},
   "source": [
    "# Retail Shopping:\n",
    "\n",
    "- method takes discount,price,userType,cart[]\n",
    "- returns total"
   ]
  },
  {
   "cell_type": "code",
   "execution_count": 5,
   "metadata": {},
   "outputs": [
    {
     "ename": "AttributeError",
     "evalue": "type object 'item' has no attribute 'price'",
     "output_type": "error",
     "traceback": [
      "\u001b[0;31m---------------------------------------------------------------------------\u001b[0m",
      "\u001b[0;31mAttributeError\u001b[0m                            Traceback (most recent call last)",
      "Cell \u001b[0;32mIn[5], line 21\u001b[0m\n\u001b[1;32m     18\u001b[0m discount\u001b[38;5;241m=\u001b[39m\u001b[38;5;241m10\u001b[39m\n\u001b[1;32m     19\u001b[0m userType\u001b[38;5;241m=\u001b[39m\u001b[38;5;124m\"\u001b[39m\u001b[38;5;124mregular\u001b[39m\u001b[38;5;124m\"\u001b[39m\n\u001b[0;32m---> 21\u001b[0m \u001b[38;5;28mprint\u001b[39m(\u001b[38;5;124mf\u001b[39m\u001b[38;5;124m\"\u001b[39m\u001b[38;5;124mTotal price: $\u001b[39m\u001b[38;5;132;01m{\u001b[39;00mfindTotalPrice(discount,\u001b[38;5;250m \u001b[39m\u001b[43mitem\u001b[49m\u001b[38;5;241;43m.\u001b[39;49m\u001b[43mprice\u001b[49m,item\u001b[38;5;241m.\u001b[39mquantity,userType)\u001b[38;5;132;01m}\u001b[39;00m\u001b[38;5;124m\"\u001b[39m)\n",
      "\u001b[0;31mAttributeError\u001b[0m: type object 'item' has no attribute 'price'"
     ]
    }
   ],
   "source": [
    "class item:\n",
    "    def __init__(self, name, price, quantity=1):\n",
    "        self.name = name\n",
    "        self.price = price\n",
    "        self.quantity = quantity\n",
    "    \n",
    "    def findTotalPrice(self,discount,userType):\n",
    "        if userType==\"premium\":\n",
    "            deliverycharge =0\n",
    "        else:\n",
    "            deliverycharge=10\n",
    "        \n",
    "        totalprice= (self.price()*self.quantity()+deliverycharge)*(1-discount)\n",
    "        \n",
    "        return totalprice\n",
    "    \n",
    "Item=item(\"laptop\",1000,2)\n",
    "discount=10\n",
    "userType=\"regular\"\n",
    "\n",
    "print(f\"Total price: ${findTotalPrice(item,discount,userType)}\")\n",
    "\n",
    "\n",
    "\n",
    "\n",
    "\n",
    "        \n"
   ]
  }
 ],
 "metadata": {
  "kernelspec": {
   "display_name": "Python 3",
   "language": "python",
   "name": "python3"
  },
  "language_info": {
   "codemirror_mode": {
    "name": "ipython",
    "version": 3
   },
   "file_extension": ".py",
   "mimetype": "text/x-python",
   "name": "python",
   "nbconvert_exporter": "python",
   "pygments_lexer": "ipython3",
   "version": "3.12.6"
  }
 },
 "nbformat": 4,
 "nbformat_minor": 2
}
