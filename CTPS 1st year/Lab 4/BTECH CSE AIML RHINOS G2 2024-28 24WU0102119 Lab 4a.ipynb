{
 "cells": [
  {
   "cell_type": "markdown",
   "metadata": {},
   "source": [
    "# Lab 4\n",
    "## Implementating real-time technical applications using Lists , Tuples\n",
    "### Items present in a library/componenets of a car/materials reaquired for construction of a building - operations of list and tuples"
   ]
  },
  {
   "cell_type": "markdown",
   "metadata": {},
   "source": [
    "# 4A\n",
    "### To write a python program for items present in a library"
   ]
  },
  {
   "cell_type": "code",
   "execution_count": 18,
   "metadata": {},
   "outputs": [
    {
     "name": "stdout",
     "output_type": "stream",
     "text": [
      "Books (6):\n",
      "The Alchemist\n",
      "The Lord of the Rings\n",
      "The Hobbit\n",
      "The Theory of Everything\n",
      "The Catcher in the Rye\n",
      "The Grapes of Wrath\n",
      "\n",
      "Magazines (5):\n",
      "National Geographic\n",
      "Scientific American\n",
      "Science\n",
      "Time\n",
      "Vogue\n",
      "\n",
      "Newspapers (5):\n",
      "The New York Times\n",
      "The Washington Post\n",
      "The Chicago Tribune\n",
      "The Los Angeles Times\n",
      "The San Francisco Chronicle\n"
     ]
    }
   ],
   "source": [
    "books=[\n",
    "    \"The Alchemist\",\n",
    "    \"The Lord of the Rings\",\n",
    "    \"The Hobbit\",\n",
    "    \"The Theory of Everything\",\n",
    "    \"The Catcher in the Rye\",\n",
    "    \"The Grapes of Wrath\"\n",
    "]\n",
    "\n",
    "Magazines=[\n",
    "    \"National Geographic\",\n",
    "    \"Scientific American\",\n",
    "    \"Science\",\n",
    "    \"Time\",\n",
    "    \"Vogue\"\n",
    "]\n",
    "Newspapers=[\n",
    "    \"The New York Times\",\n",
    "    \"The Washington Post\",\n",
    "    \"The Chicago Tribune\",\n",
    "    \"The Los Angeles Times\",\n",
    "    \"The San Francisco Chronicle\"\n",
    "]\n",
    "Library=[books,Magazines,Newspapers]\n",
    "\n",
    "def add_book(book):\n",
    "    books.append(book)\n",
    "\n",
    "def remove_book(book):\n",
    "    books.remove(book)\n",
    "\n",
    "def add_magazine(magazine):\n",
    "    Magazines.append(magazine)\n",
    "\n",
    "def remove_magazine(magazine):\n",
    "    Magazines.remove(magazine)  \n",
    "\n",
    "def add_newspaper(newspaper):\n",
    "    Newspapers.append(newspaper)\n",
    "\n",
    "def remove_newspaper(newspaper):\n",
    "    Newspapers.remove(newspaper)\n",
    "\n",
    "def total_books():\n",
    "    return len(books)\n",
    "\n",
    "def total_magazines():\n",
    "    return len(Magazines)\n",
    "\n",
    "def total_newspapers():\n",
    "    return len(Newspapers)\n",
    "\n",
    "def add_book_at_index(book,index):\n",
    "    books.insert(index,book)\n",
    "\n",
    "def add_magazine_at_index(magazine,index):\n",
    "    Magazines.insert(index,magazine)\n",
    "\n",
    "def add_newspaper_at_index(newspaper,index):\n",
    "    Newspapers.insert(index,newspaper)\n",
    "\n",
    "def slice_books(start,end):\n",
    "    return books[start:end]\n",
    "\n",
    "def slice_magazines(start,end):\n",
    "    return Magazines[start:end]\n",
    "\n",
    "def slice_newspapers(start,end):\n",
    "    return Newspapers[start:end]\n",
    "\n",
    "def display_library():\n",
    "    print(f\"Books ({total_books()}):\")\n",
    "    for book in books:\n",
    "        print(book)\n",
    "    print(f\"\\nMagazines ({total_magazines()}):\")\n",
    "    for magazine in Magazines:\n",
    "        print(magazine)\n",
    "    print(f\"\\nNewspapers ({total_newspapers()}):\")\n",
    "    for newspaper in Newspapers:\n",
    "        print(newspaper)\n",
    "\n",
    "\n",
    "\n",
    "\n",
    "display_library()"
   ]
  },
  {
   "cell_type": "code",
   "execution_count": 19,
   "metadata": {},
   "outputs": [
    {
     "name": "stdout",
     "output_type": "stream",
     "text": [
      "Books (4):\n",
      "The Lord of the Rings\n",
      "The Hobbit\n",
      "The Theory of Everything\n",
      "The Grapes of Wrath\n",
      "\n",
      "Magazines (5):\n",
      "National Geographic\n",
      "Scientific American\n",
      "Science\n",
      "Time\n",
      "Vogue\n",
      "\n",
      "Newspapers (5):\n",
      "The New York Times\n",
      "The Washington Post\n",
      "The Chicago Tribune\n",
      "The Los Angeles Times\n",
      "The San Francisco Chronicle\n"
     ]
    }
   ],
   "source": [
    "remove_book(\"The Catcher in the Rye\")    \n",
    "remove_book(\"The Alchemist\")\n",
    "display_library()"
   ]
  },
  {
   "cell_type": "code",
   "execution_count": 20,
   "metadata": {},
   "outputs": [
    {
     "name": "stdout",
     "output_type": "stream",
     "text": [
      "['The Hobbit', 'The Theory of Everything', 'The Grapes of Wrath']\n"
     ]
    }
   ],
   "source": [
    "print(slice_books(1,5))"
   ]
  }
 ],
 "metadata": {
  "kernelspec": {
   "display_name": "Python 3",
   "language": "python",
   "name": "python3"
  },
  "language_info": {
   "codemirror_mode": {
    "name": "ipython",
    "version": 3
   },
   "file_extension": ".py",
   "mimetype": "text/x-python",
   "name": "python",
   "nbconvert_exporter": "python",
   "pygments_lexer": "ipython3",
   "version": "3.12.6"
  }
 },
 "nbformat": 4,
 "nbformat_minor": 2
}
