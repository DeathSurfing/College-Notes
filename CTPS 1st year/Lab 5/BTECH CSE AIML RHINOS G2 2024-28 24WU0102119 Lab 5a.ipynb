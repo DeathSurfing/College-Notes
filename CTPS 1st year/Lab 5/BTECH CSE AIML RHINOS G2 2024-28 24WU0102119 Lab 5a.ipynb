{
 "cells": [
  {
   "cell_type": "code",
   "execution_count": null,
   "metadata": {},
   "outputs": [],
   "source": [
    "#Exp.No:5.a                  Language\n",
    "\n",
    "language1={\"Grammer\",\"words\",\"sentences\",\"Pitch\"}\n",
    "language2={\"words\",\"phonetics\",\"Grammer\",\"Pitch\",\"Context\"}\n",
    "\n",
    "print(\"Input:\\n\")\n",
    "print(language1)\n",
    "print(language2)\n",
    "print(\"\")\n",
    "#Union of two sets\n",
    "print(\"Output:\\n\")\n",
    "print(\"Union of the defined sets :\\n\", language1 | language2)\n",
    "\n",
    "print(\"Intersection of the defined sets :\\n\", language1 & language2)\n",
    "print(\"Difference of the defined sets:\\n\", language1-language2)\n",
    "print(\"Symmetric difference of the defined sets:\\n\", language1^language2)"
   ]
  }
 ],
 "metadata": {
  "language_info": {
   "name": "python"
  }
 },
 "nbformat": 4,
 "nbformat_minor": 2
}
