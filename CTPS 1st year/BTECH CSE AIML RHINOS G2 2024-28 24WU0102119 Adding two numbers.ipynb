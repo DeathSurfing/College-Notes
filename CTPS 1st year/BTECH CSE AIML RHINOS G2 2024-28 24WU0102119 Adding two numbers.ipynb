{
 "cells": [
  {
   "cell_type": "markdown",
   "metadata": {},
   "source": [
    "##  Add two numbers"
   ]
  },
  {
   "cell_type": "code",
   "execution_count": 2,
   "metadata": {},
   "outputs": [
    {
     "name": "stdout",
     "output_type": "stream",
     "text": [
      "Addition of two numbers is 30\n"
     ]
    }
   ],
   "source": [
    "#Python for addition of two numbers\n",
    "num1=10 #Intialize first variable\n",
    "num2=20 #Initialize second variable\n",
    "sum=num1+num2\n",
    "print(f\"Addition of two numbers is {sum}\")"
   ]
  },
  {
   "cell_type": "code",
   "execution_count": 3,
   "metadata": {},
   "outputs": [
    {
     "name": "stdout",
     "output_type": "stream",
     "text": [
      "enter your 1st number\n",
      "You have entered 5\n",
      "enter your 2nd number\n",
      "You have entered 6\n",
      "Sum of the two numbers entered is=11\n"
     ]
    }
   ],
   "source": [
    "# Python for addition of two numbers by taking inputs from the user\n",
    "a=int(input(print(\"Enter your 1st number:\")))# Take input for first variable\n",
    "print(f\"You have entered {a}\") \n",
    "b=int(input(print(\"Enter your 2nd number:\")))# Take input for second variable\n",
    "print(f\"You have entered {b}\") \n",
    "sum=a+b #Add variable a and variable b\n",
    "print(f\"Sum of the two numbers entered is={sum}\")\n"
   ]
  },
  {
   "cell_type": "markdown",
   "metadata": {},
   "source": []
  }
 ],
 "metadata": {
  "kernelspec": {
   "display_name": "Python 3",
   "language": "python",
   "name": "python3"
  },
  "language_info": {
   "codemirror_mode": {
    "name": "ipython",
    "version": 3
   },
   "file_extension": ".py",
   "mimetype": "text/x-python",
   "name": "python",
   "nbconvert_exporter": "python",
   "pygments_lexer": "ipython3",
   "version": "3.12.6"
  }
 },
 "nbformat": 4,
 "nbformat_minor": 2
}
