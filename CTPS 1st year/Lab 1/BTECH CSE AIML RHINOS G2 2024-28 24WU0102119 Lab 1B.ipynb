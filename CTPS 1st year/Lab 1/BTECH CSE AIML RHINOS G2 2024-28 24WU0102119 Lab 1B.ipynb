{
 "cells": [
  {
   "cell_type": "markdown",
   "metadata": {},
   "source": [
    "# Retail Shopping:\n",
    "\n",
    "- method takes discount,price,userType,cart[]\n",
    "- returns total"
   ]
  },
  {
   "cell_type": "code",
   "execution_count": 26,
   "metadata": {},
   "outputs": [
    {
     "name": "stdout",
     "output_type": "stream",
     "text": [
      "Total price: 2070.00INR\n"
     ]
    }
   ],
   "source": [
    "class Item:\n",
    "    def __init__(self, name, price, quantity=1):\n",
    "        self.name = name\n",
    "        self.price = price\n",
    "        self.quantity = quantity\n",
    "    \n",
    "    def findTotalPrice(self, discount, userType):\n",
    "        if userType == \"premium\":\n",
    "            deliverycharge = 0\n",
    "        else:\n",
    "            deliverycharge = 50\n",
    "        \n",
    "        # Calculate total price for this item\n",
    "        totalprice = (self.price * self.quantity + deliverycharge) * (1 - discount)\n",
    "        return totalprice\n",
    "\n",
    "class Cart:\n",
    "    def __init__(self):\n",
    "        self.items = []  \n",
    "    \n",
    "    def addItem(self, item):\n",
    "        self.items.append(item)\n",
    "    \n",
    "    def removeItem(self, itemName):\n",
    "        # Remove the first item that matches the name\n",
    "        self.items = [item for item in self.items if item.name != itemName]\n",
    "    \n",
    "    def calculateTotal(self, discount=0.0, userType=\"regular\"):\n",
    "        total = 0\n",
    "        for item in self.items:\n",
    "            total += item.findTotalPrice(discount, userType)\n",
    "        return total\n",
    "\n",
    "\n",
    "laptop = Item(\"laptop\", 1000, 2)\n",
    "headphones = Item(\"headphones\", 200, 1)\n",
    "cart = Cart()\n",
    "\n",
    "# Add items to the cart\n",
    "cart.addItem(laptop)\n",
    "cart.addItem(headphones)\n",
    "\n",
    "discount = 0.1  # 10% discount\n",
    "userType = \"regular\"\n",
    "print(f\"Total price: {cart.calculateTotal(discount, userType):.2f}INR\")\n"
   ]
  }
 ],
 "metadata": {
  "kernelspec": {
   "display_name": "Python 3",
   "language": "python",
   "name": "python3"
  },
  "language_info": {
   "codemirror_mode": {
    "name": "ipython",
    "version": 3
   },
   "file_extension": ".py",
   "mimetype": "text/x-python",
   "name": "python",
   "nbconvert_exporter": "python",
   "pygments_lexer": "ipython3",
   "version": "3.12.6"
  }
 },
 "nbformat": 4,
 "nbformat_minor": 2
}
