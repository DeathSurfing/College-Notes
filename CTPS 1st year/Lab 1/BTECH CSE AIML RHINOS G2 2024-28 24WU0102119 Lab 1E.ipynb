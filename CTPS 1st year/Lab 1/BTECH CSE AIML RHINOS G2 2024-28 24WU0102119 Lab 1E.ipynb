{
 "cells": [
  {
   "cell_type": "markdown",
   "metadata": {},
   "source": [
    "# Calculate Weight of a steel bar\n",
    "\n",
    "## Inputs:\n",
    "- Radius = 10\n",
    "- Length = 10\n",
    "- Density=7850"
   ]
  },
  {
   "cell_type": "code",
   "execution_count": 2,
   "metadata": {},
   "outputs": [
    {
     "name": "stdout",
     "output_type": "stream",
     "text": [
      "Weight of Steel bar is :24649000.0\n"
     ]
    }
   ],
   "source": [
    "def calcVolume(r,l):\n",
    "    volume = 3.14*(r**2)*l\n",
    "    return volume\n",
    "\n",
    "def calcWeight(volume, density):\n",
    "    weight = volume*density\n",
    "    return weight\n",
    "\n",
    "radius = float(input(\"Enter Radius of Rod\"))\n",
    "Length = float(input(\"Enter Length of Rod\"))\n",
    "density = 7850\n",
    "print (f\"Weight of Steel bar is :{calcWeight(calcVolume(radius,Length),density)}\")"
   ]
  }
 ],
 "metadata": {
  "kernelspec": {
   "display_name": "Python 3",
   "language": "python",
   "name": "python3"
  },
  "language_info": {
   "codemirror_mode": {
    "name": "ipython",
    "version": 3
   },
   "file_extension": ".py",
   "mimetype": "text/x-python",
   "name": "python",
   "nbconvert_exporter": "python",
   "pygments_lexer": "ipython3",
   "version": "3.12.6"
  }
 },
 "nbformat": 4,
 "nbformat_minor": 2
}
