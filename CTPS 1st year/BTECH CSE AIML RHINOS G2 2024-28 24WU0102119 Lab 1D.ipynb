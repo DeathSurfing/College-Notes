{
 "cells": [
  {
   "cell_type": "markdown",
   "metadata": {},
   "source": [
    "# Weight(KG) of a Motorbike\n",
    "\n",
    "Write a python program to find the weight in kg of a motorbike\n"
   ]
  },
  {
   "cell_type": "code",
   "execution_count": 12,
   "metadata": {},
   "outputs": [
    {
     "name": "stdout",
     "output_type": "stream",
     "text": [
      "Parts and weight of the motorbike Chassis,40 Kgs\n",
      "Parts and weight of the motorbike Engine,45 Kgs\n",
      "Parts and weight of the motorbike Transmission,15 Kgs\n",
      "Parts and weight of the motorbike Wheels,8 Kgs\n",
      "Parts and weight of the motorbike Tires,6 Kgs\n",
      "Parts and weight of the motorbike Bodypanels,30 Kgs\n",
      "Parts and weight of the motorbike Mudguards,4 Kgs\n",
      "Parts and weight of the motorbike Seat,5 Kgs\n",
      "Parts and weight of the motorbike Lights,2 Kgs\n",
      "Total Weight of BajajChetak is:155 Kgs\n"
     ]
    }
   ],
   "source": [
    "bajajChetak={\n",
    "    \"Chassis\": 40,    \n",
    "    \"Engine\": 45,          \n",
    "    \"Transmission\": 15,     \n",
    "    \"Wheels\": 8,            \n",
    "    \"Tires\": 6,             \n",
    "    \"Bodypanels\": 30,       \n",
    "    \"Mudguards\": 4,         \n",
    "    \"Seat\": 5,              \n",
    "    \"Lights\": 2             \n",
    "}\n",
    "\n",
    "for i in bajajChetak:\n",
    "    print(f\"Parts and weight of the motorbike {i},{bajajChetak[i]} Kgs\")\n",
    "\n",
    "total_weight=sum(bajajChetak.values())\n",
    "\n",
    "print(f\"Total Weight of BajajChetak is:{total_weight} Kgs\")"
   ]
  }
 ],
 "metadata": {
  "kernelspec": {
   "display_name": "Python 3",
   "language": "python",
   "name": "python3"
  },
  "language_info": {
   "codemirror_mode": {
    "name": "ipython",
    "version": 3
   },
   "file_extension": ".py",
   "mimetype": "text/x-python",
   "name": "python",
   "nbconvert_exporter": "python",
   "pygments_lexer": "ipython3",
   "version": "3.12.6"
  }
 },
 "nbformat": 4,
 "nbformat_minor": 2
}
