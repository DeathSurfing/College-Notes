{
 "cells": [
  {
   "cell_type": "code",
   "execution_count": null,
   "metadata": {},
   "outputs": [],
   "source": [
    "def calcdist(a,b):\n",
    "    dist=(a**2+b**2)**(1/2)\n",
    "    return dist\n",
    "\n",
    "x=int(input(\"Value of X\"))\n",
    "y=int(input(\"Value of Y\"))\n",
    "print(f\"Distance of two points x:{x},y:{y}\\n Distance:{calcdist(x,y)}\")"
   ]
  }
 ],
 "metadata": {
  "language_info": {
   "name": "python"
  }
 },
 "nbformat": 4,
 "nbformat_minor": 2
}
