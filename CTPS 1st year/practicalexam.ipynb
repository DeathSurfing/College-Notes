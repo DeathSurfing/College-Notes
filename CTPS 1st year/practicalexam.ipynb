{
 "cells": [
  {
   "cell_type": "code",
   "execution_count": 12,
   "metadata": {},
   "outputs": [
    {
     "name": "stdout",
     "output_type": "stream",
     "text": [
      "Minute:60.0\n",
      "Hour:3600.0\n",
      "Day:86400.0\n",
      "Week:604800.0\n",
      "Julian-year:31536000.0\n"
     ]
    },
    {
     "name": "stderr",
     "output_type": "stream",
     "text": [
      "/var/folders/1t/2wfk78n140dg_78gbctf1rwh0000gn/T/ipykernel_30777/1146931977.py:3: DeprecationWarning: Please import `minute` from the `scipy.constants` namespace; the `scipy.constants.constants` namespace is deprecated and will be removed in SciPy 2.0.0.\n",
      "  print(f\"Minute:{c.constants.minute}\\nHour:{c.constants.hour}\\nDay:{c.constants.day}\\nWeek:{c.constants.week}\\nJulian-year:{c.constants.year}\")\n",
      "/var/folders/1t/2wfk78n140dg_78gbctf1rwh0000gn/T/ipykernel_30777/1146931977.py:3: DeprecationWarning: Please import `hour` from the `scipy.constants` namespace; the `scipy.constants.constants` namespace is deprecated and will be removed in SciPy 2.0.0.\n",
      "  print(f\"Minute:{c.constants.minute}\\nHour:{c.constants.hour}\\nDay:{c.constants.day}\\nWeek:{c.constants.week}\\nJulian-year:{c.constants.year}\")\n",
      "/var/folders/1t/2wfk78n140dg_78gbctf1rwh0000gn/T/ipykernel_30777/1146931977.py:3: DeprecationWarning: Please import `day` from the `scipy.constants` namespace; the `scipy.constants.constants` namespace is deprecated and will be removed in SciPy 2.0.0.\n",
      "  print(f\"Minute:{c.constants.minute}\\nHour:{c.constants.hour}\\nDay:{c.constants.day}\\nWeek:{c.constants.week}\\nJulian-year:{c.constants.year}\")\n",
      "/var/folders/1t/2wfk78n140dg_78gbctf1rwh0000gn/T/ipykernel_30777/1146931977.py:3: DeprecationWarning: Please import `week` from the `scipy.constants` namespace; the `scipy.constants.constants` namespace is deprecated and will be removed in SciPy 2.0.0.\n",
      "  print(f\"Minute:{c.constants.minute}\\nHour:{c.constants.hour}\\nDay:{c.constants.day}\\nWeek:{c.constants.week}\\nJulian-year:{c.constants.year}\")\n",
      "/var/folders/1t/2wfk78n140dg_78gbctf1rwh0000gn/T/ipykernel_30777/1146931977.py:3: DeprecationWarning: Please import `year` from the `scipy.constants` namespace; the `scipy.constants.constants` namespace is deprecated and will be removed in SciPy 2.0.0.\n",
      "  print(f\"Minute:{c.constants.minute}\\nHour:{c.constants.hour}\\nDay:{c.constants.day}\\nWeek:{c.constants.week}\\nJulian-year:{c.constants.year}\")\n"
     ]
    }
   ],
   "source": [
    "from scipy import constants as c\n",
    "\n",
    "print(f\"Minute:{c.constants.minute}\\nHour:{c.constants.hour}\\nDay:{c.constants.day}\\nWeek:{c.constants.week}\\nJulian-year:{c.constants.year}\")"
   ]
  }
 ],
 "metadata": {
  "kernelspec": {
   "display_name": "Python 3",
   "language": "python",
   "name": "python3"
  },
  "language_info": {
   "codemirror_mode": {
    "name": "ipython",
    "version": 3
   },
   "file_extension": ".py",
   "mimetype": "text/x-python",
   "name": "python",
   "nbconvert_exporter": "python",
   "pygments_lexer": "ipython3",
   "version": "3.12.6"
  }
 },
 "nbformat": 4,
 "nbformat_minor": 2
}
