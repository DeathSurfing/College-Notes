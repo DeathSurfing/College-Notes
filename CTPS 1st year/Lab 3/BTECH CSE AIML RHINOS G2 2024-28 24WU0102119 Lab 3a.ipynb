{
 "cells": [
  {
   "cell_type": "markdown",
   "metadata": {},
   "source": [
    "# Number Series\n"
   ]
  },
  {
   "cell_type": "code",
   "execution_count": 3,
   "metadata": {},
   "outputs": [
    {
     "name": "stdout",
     "output_type": "stream",
     "text": [
      "55\n"
     ]
    }
   ],
   "source": [
    "def numSeries(n):\n",
    "    sum=0\n",
    "    for i in range(1,n+1):\n",
    "        sum+=i**2\n",
    "    return sum\n",
    "\n",
    "\n",
    "print(numSeries(5))\n"
   ]
  },
  {
   "cell_type": "markdown",
   "metadata": {},
   "source": [
    "# Fib Sequence:"
   ]
  },
  {
   "cell_type": "code",
   "execution_count": 5,
   "metadata": {},
   "outputs": [
    {
     "name": "stdout",
     "output_type": "stream",
     "text": [
      "0\n",
      "1\n",
      "1\n",
      "2\n",
      "3\n",
      "5\n",
      "8\n",
      "13\n",
      "21\n",
      "34\n"
     ]
    }
   ],
   "source": [
    "def fibseq(n):\n",
    "    if n <=1:\n",
    "        return n\n",
    "    else:\n",
    "        return fibseq(n-1) + fibseq(n-2)\n",
    "\n",
    "for i in range(10):\n",
    "    print(fibseq(i))"
   ]
  },
  {
   "cell_type": "code",
   "execution_count": 25,
   "metadata": {},
   "outputs": [
    {
     "name": "stdout",
     "output_type": "stream",
     "text": [
      "Center series\n",
      "\n",
      "    1\n",
      "   1 2\n",
      "  1 2 3\n",
      " 1 2 3 4\n",
      "1 2 3 4 5\n",
      "\n",
      "Left Series\n",
      "\n",
      "1\n",
      "1 2\n",
      "1 2 3\n",
      "1 2 3 4\n",
      "1 2 3 4 5\n",
      "\n",
      " Right Series \n",
      "\n",
      "1 2 3 4 5\n",
      "1 2 3 4\n",
      "1 2 3\n",
      "1 2\n",
      "1\n"
     ]
    }
   ],
   "source": [
    "def center_series(n):\n",
    "    for i in range(1, n+1):\n",
    "        print(' ' * (n-i), end='')\n",
    "        print(*range(1, i+1))\n",
    "\n",
    "def left_series(n):\n",
    "    for i in range(1, n+1):\n",
    "        print(*(range(1,i+1)))\n",
    "        \n",
    "def right_series(n):\n",
    "    for i in range(n,0,-1):\n",
    "        print(*(range(1,i+1)))\n",
    "\n",
    "print(\"Center series\\n\")\n",
    "center_series(5)\n",
    "print(\"\\nLeft Series\\n\")\n",
    "left_series(5)\n",
    "print(\"\\n Right Series \\n\")\n",
    "right_series(5)\n"
   ]
  }
 ],
 "metadata": {
  "kernelspec": {
   "display_name": "Python 3",
   "language": "python",
   "name": "python3"
  },
  "language_info": {
   "codemirror_mode": {
    "name": "ipython",
    "version": 3
   },
   "file_extension": ".py",
   "mimetype": "text/x-python",
   "name": "python",
   "nbconvert_exporter": "python",
   "pygments_lexer": "ipython3",
   "version": "3.12.6"
  }
 },
 "nbformat": 4,
 "nbformat_minor": 2
}
