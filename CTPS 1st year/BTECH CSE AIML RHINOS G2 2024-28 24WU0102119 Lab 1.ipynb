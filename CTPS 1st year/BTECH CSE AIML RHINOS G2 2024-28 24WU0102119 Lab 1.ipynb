{
 "cells": [
  {
   "cell_type": "markdown",
   "metadata": {},
   "source": [
    "## Write a program to calculate the electricity bill"
   ]
  },
  {
   "cell_type": "code",
   "execution_count": 10,
   "metadata": {},
   "outputs": [
    {
     "name": "stdout",
     "output_type": "stream",
     "text": [
      "Electricity bill for 300 units is: ₹819.0\n"
     ]
    }
   ],
   "source": [
    "#1A Python program for calculating \"Electricity billing_Approach 1 (Basic Version)\"\n",
    "def calculate_electricity_bill(units): #intialize function calculate electricity bill\n",
    "    units = int(units) #Check for Type saftey to only allow integer type\n",
    "    if units <= 0: #Check if units are lesser than or equal to zero for early break condition\n",
    "        return 0\n",
    "    elif units <= 100: #Check for units lesser than equal to 100\n",
    "        return units * 1.53\n",
    "    elif units <= 200: #Check for units lesser than equal to 200\n",
    "        return (100 * 1.53) + (units - 100) * 2.73\n",
    "    elif units <= 300: #Check for units lesser than equal to 300\n",
    "        return (100 * 1.53) + (100 * 2.73) + (units - 200) * 3.93\n",
    "    else:\n",
    "        return (100 * 1.53) + (100 * 2.73) + (100 * 3.93) + (units - 300) * 5.25 #Check case for greater than 300\n",
    "\n",
    "units_consumed = 300 #Intialize units\n",
    "bill_amount = calculate_electricity_bill(units_consumed)\n",
    "print(f\"Electricity bill for {units_consumed} units is: ₹{bill_amount}\")\n",
    "\n"
   ]
  },
  {
   "cell_type": "markdown",
   "metadata": {},
   "source": [
    "### Approach 2 Hard:\n",
    "\n",
    "#### Slabs Domestic:\n",
    "- 0-100:1.53\n",
    "- 100-200:2.73\n",
    "- 200-300:3.93\n",
    "- \\>300:5.25\n",
    "\n",
    "#### Slabs Commercial:\n",
    "- 0-100:2.85\n",
    "- 100-200:3.97\n",
    "- 200-300:4.53\n",
    "- \\>300 :7.98\n",
    "\n",
    "####\n",
    "##### Tax domestic:\n",
    "- CGST= 0.09\n",
    "- SGST=0.09\n",
    "- Fixed=50\n",
    "\n",
    "##### Tax Commericial:\n",
    "- CGST=0.18\n",
    "- SGST=0.18\n",
    "- Fixed=160\n"
   ]
  },
  {
   "cell_type": "code",
   "execution_count": 4,
   "metadata": {},
   "outputs": [
    {
     "name": "stdout",
     "output_type": "stream",
     "text": [
      "Type:Domestic\n",
      "_____\n",
      "Subtotal:819.0\n",
      "CGST:73.71\n",
      "SGST:73.71\n",
      "Fixed:50\n",
      "Total Bill for 300 is :1016.4200000000001\n"
     ]
    }
   ],
   "source": [
    "def dom_calculate_electricity_bill(units): #intialize function calculate electricity bill\n",
    "    units = int(units) #Check for Type saftey to only allow integer type\n",
    "    if units <= 0: #Check if units are lesser than or equal to zero for early break condition\n",
    "        return 0\n",
    "    elif units <= 100: #Check for units lesser than equal to 100\n",
    "        return units * 1.53\n",
    "    elif units <= 200: #Check for units lesser than equal to 200\n",
    "        return (100 * 1.53) + (units - 100) * 2.73\n",
    "    elif units <= 300: #Check for units lesser than equal to 300\n",
    "        return (100 * 1.53) + (100 * 2.73) + (units - 200) * 3.93\n",
    "    else:\n",
    "        return (100 * 1.53) + (100 * 2.73) + (100 * 3.93) + (units - 300) * 5.25 #Check case for greater than 300\n",
    "    \n",
    "def com_calculate_electricity_bill(units): #intialize function calculate electricity bill\n",
    "    units = int(units) #Check for Type saftey to only allow integer type\n",
    "    if units <= 0: #Check if units are lesser than or equal to zero for early break condition\n",
    "        return 0\n",
    "    elif units <= 100: #Check for units lesser than equal to 100\n",
    "        return units * 2.85\n",
    "    elif units <= 200: #Check for units lesser than equal to 200\n",
    "        return (100 * 2.85) + (units - 100) * 3.97\n",
    "    elif units <= 300: #Check for units lesser than equal to 300\n",
    "        return (100 * 2.85) + (100 * 3.97) + (units - 200) * 3.93\n",
    "    else:\n",
    "        return (100 * 2.85) + (100 * 3.97) + (100 * 4.53) + (units - 300) * 7.98 #Check case for greater than 300\n",
    "    \n",
    "def commercial(units):\n",
    "    subtotal= com_calculate_electricity_bill(units)\n",
    "    cgst=subtotal*0.18\n",
    "    sgst=subtotal*0.18\n",
    "    fixed=160\n",
    "    total = subtotal+cgst+sgst+fixed\n",
    "    print(f\"Type:Commercial\\n_____\\nSubtotal:{subtotal}\\nCGST:{cgst}\\nSGST:{sgst}\\nFixed:{fixed}\")\n",
    "    return total\n",
    "\n",
    "\n",
    "def domestic(units):\n",
    "    subtotal= dom_calculate_electricity_bill(units)\n",
    "    cgst=subtotal*0.09\n",
    "    sgst=subtotal*0.09\n",
    "    fixed=50\n",
    "    total = subtotal+cgst+sgst+fixed\n",
    "    print(f\"Type:Domestic\\n_____\\nSubtotal:{subtotal}\\nCGST:{cgst}\\nSGST:{sgst}\\nFixed:{fixed}\")\n",
    "    return total\n",
    "\n",
    "\n",
    "isdomestic= bool(input(\"Is Your Bill type Domestic:\"))\n",
    "units_consumed=int(input(\"Enter Units Consumed:\"))\n",
    "\n",
    "\n",
    "if isdomestic==True:\n",
    "    bill_amount=domestic(units_consumed) \n",
    "else:\n",
    "    bill_amount=commercial(units_consumed)\n",
    "    \n",
    "print(f\"Total Bill for {units_consumed} is :{bill_amount}\")\n",
    "    \n",
    "\n"
   ]
  },
  {
   "cell_type": "code",
   "execution_count": 10,
   "metadata": {},
   "outputs": [
    {
     "name": "stdout",
     "output_type": "stream",
     "text": [
      "Bill Type:Domestic\n",
      "_____\n",
      "SubTotal:819.0\n",
      "CGST:73.71\n",
      "SGST:73.71\n",
      "Fixed:50.0\n",
      "_____\n",
      "FINAL TOTAL BILL:1016.42\n"
     ]
    }
   ],
   "source": [
    "import numpy as np\n",
    "dom = np.array([1.53, 2.73, 3.93, 5.25])  # Domestic rate slabs\n",
    "pointercheck = np.array([0, 100, 200, 300])  # Unit ranges for slabs\n",
    "com = np.array([2.85, 3.97, 4.53, 7.98])  # Commercial rate slabs\n",
    "Charges_D = np.array([0.09, 0.09, 50])  \n",
    "Charges_C = np.array([0.18, 0.18, 160])  \n",
    "isdomestic = bool(input(\"Is the bill type domestic (Yes/No): \"))\n",
    "units_consumed = int(input(\"Number of Units: \"))\n",
    "if isdomestic:\n",
    "    tlist = dom.copy()  # Domestic rates\n",
    "    trate = Charges_D.copy()\n",
    "    billType=\"Domestic\"\n",
    "else:\n",
    "    tlist = com.copy()  # Commercial rates\n",
    "    trate = Charges_C.copy()\n",
    "    billType=\"Commercial\"\n",
    "total = 0\n",
    "if units_consumed > 300:\n",
    "    total += (units_consumed - 300) * tlist[3]  \n",
    "    units_consumed = 300  # Set units to 300 for further calculation\n",
    "# Loop through the slabs to calculate the bill\n",
    "for i in range(len(pointercheck) - 1, 0, -1):  # Start from the last range\n",
    "    if pointercheck[i - 1] < units_consumed <= pointercheck[i]:\n",
    "        total += (units_consumed - pointercheck[i - 1]) * tlist[i - 1]\n",
    "        units_consumed = pointercheck[i - 1]  # Update units consumed\n",
    "fintotal=total*trate[0]+total*trate[1]+trate[2]+total\n",
    "print(f\"Bill Type:{billType}\\n_____\\nSubTotal:{total}\\nCGST:{total*trate[0]}\\nSGST:{total*trate[1]}\\nFixed:{trate[2]}\\n_____\\nFINAL TOTAL BILL:{fintotal}\")\n",
    "        \n",
    "\n",
    "\n"
   ]
  }
 ],
 "metadata": {
  "kernelspec": {
   "display_name": "Python 3",
   "language": "python",
   "name": "python3"
  },
  "language_info": {
   "codemirror_mode": {
    "name": "ipython",
    "version": 3
   },
   "file_extension": ".py",
   "mimetype": "text/x-python",
   "name": "python",
   "nbconvert_exporter": "python",
   "pygments_lexer": "ipython3",
   "version": "3.12.6"
  }
 },
 "nbformat": 4,
 "nbformat_minor": 2
}
