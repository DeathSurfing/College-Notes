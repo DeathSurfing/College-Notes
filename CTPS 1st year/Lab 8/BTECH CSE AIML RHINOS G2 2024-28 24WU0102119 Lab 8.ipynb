{
 "cells": [
  {
   "cell_type": "markdown",
   "metadata": {},
   "source": [
    "# Lab 8"
   ]
  },
  {
   "cell_type": "markdown",
   "metadata": {},
   "source": [
    "### To Write a python Program for Numpy. \n",
    "\n",
    "#### The program illustrates how array opperations are not only fundemental to data manipulation but also crucial to fields like data analysis, finance , image processing and machine learning"
   ]
  },
  {
   "cell_type": "code",
   "execution_count": 3,
   "metadata": {},
   "outputs": [
    {
     "name": "stdout",
     "output_type": "stream",
     "text": [
      "One Dimensional\n",
      " [ 1  2  3  4  5  6  7  8  9 10]\n",
      "Two Dimensional\n",
      " [[1 2 3]\n",
      " [4 5 6]\n",
      " [7 8 9]]\n",
      "Three Dimensional\n",
      " [[[1 2 3]\n",
      "  [4 5 6]\n",
      "  [7 8 9]]\n",
      "\n",
      " [[1 2 3]\n",
      "  [4 5 6]\n",
      "  [7 8 9]]\n",
      "\n",
      " [[1 2 3]\n",
      "  [4 5 6]\n",
      "  [7 8 9]]]\n"
     ]
    }
   ],
   "source": [
    "import numpy\n",
    "\n",
    "array1d = numpy.array([1, 2, 3, 4, 5, 6, 7, 8, 9, 10])\n",
    "print(\"One Dimensional\\n\",array1d)\n",
    "\n",
    "\n",
    "array2d=numpy.array([[1, 2, 3], [4, 5, 6], [7, 8, 9]])\n",
    "\n",
    "print(\"Two Dimensional\\n\",array2d)\n",
    "\n",
    "array3d = numpy.array([[[1, 2, 3], [4, 5, 6], [7, 8, 9]], [[1, 2, 3], [4, 5, 6], [7, 8, 9]], [[1, 2, 3], [4, 5, 6], [7, 8, 9]]])\n",
    "\n",
    "print(\"Three Dimensional\\n\",array3d)"
   ]
  },
  {
   "cell_type": "code",
   "execution_count": 4,
   "metadata": {},
   "outputs": [
    {
     "name": "stdout",
     "output_type": "stream",
     "text": [
      "55\n",
      "45\n",
      "135\n"
     ]
    }
   ],
   "source": [
    "# Print Sum of arrays\n",
    "print(array1d.sum())\n",
    "print(array2d.sum())\n",
    "print(array3d.sum())"
   ]
  },
  {
   "cell_type": "code",
   "execution_count": 5,
   "metadata": {},
   "outputs": [
    {
     "name": "stdout",
     "output_type": "stream",
     "text": [
      "1 dimensional\n",
      " [ 1  2  3  4  5  6  7  8  9 10]\n",
      "2 dimensional\n",
      " [[1 4 7]\n",
      " [2 5 8]\n",
      " [3 6 9]]\n",
      "3 dimensional\n",
      " [[[1 1 1]\n",
      "  [4 4 4]\n",
      "  [7 7 7]]\n",
      "\n",
      " [[2 2 2]\n",
      "  [5 5 5]\n",
      "  [8 8 8]]\n",
      "\n",
      " [[3 3 3]\n",
      "  [6 6 6]\n",
      "  [9 9 9]]]\n"
     ]
    }
   ],
   "source": [
    "# Print transpose of the arrays\n",
    "\n",
    "print(\"1 dimensional\\n\",array1d.transpose())\n",
    "print(\"2 dimensional\\n\",array2d.transpose())\n",
    "print(\"3 dimensional\\n\",array3d.transpose())\n",
    "\n"
   ]
  },
  {
   "cell_type": "markdown",
   "metadata": {},
   "source": [
    "# Pandas"
   ]
  },
  {
   "cell_type": "markdown",
   "metadata": {},
   "source": [
    "### To Write a python program for pandas\n",
    "\n",
    "#### The purpose of this program is to demonstrate the creation and manipulation of series and dataframe using pandas library"
   ]
  },
  {
   "cell_type": "code",
   "execution_count": 10,
   "metadata": {},
   "outputs": [
    {
     "name": "stdout",
     "output_type": "stream",
     "text": [
      "   0  1  2\n",
      "0  1  2  3\n",
      "1  4  5  6\n",
      "2  7  8  9\n",
      "   A  B  C\n",
      "0  1  2  3\n",
      "1  4  5  6\n",
      "2  7  8  9\n"
     ]
    }
   ],
   "source": [
    "import pandas\n",
    "\n",
    "def createDataFrame(data):\n",
    "    df = pandas.DataFrame(data)\n",
    "    return df\n",
    "\n",
    "def editDataFrame(df):\n",
    "    df.columns = ['A', 'B', 'C']\n",
    "    return df\n",
    "\n",
    "\n",
    "data = [[1, 2, 3], [4, 5, 6], [7, 8, 9]]\n",
    "df = createDataFrame(data)\n",
    "print(df)\n",
    "\n",
    "editDataFrame(df)\n",
    "print(df)\n",
    "\n"
   ]
  },
  {
   "cell_type": "code",
   "execution_count": 12,
   "metadata": {},
   "outputs": [
    {
     "name": "stdout",
     "output_type": "stream",
     "text": [
      "0     1\n",
      "1     2\n",
      "2     3\n",
      "3     4\n",
      "4     5\n",
      "5     6\n",
      "6     7\n",
      "7     8\n",
      "8     9\n",
      "9    10\n",
      "dtype: int64\n",
      "a     1\n",
      "b     2\n",
      "c     3\n",
      "d     4\n",
      "e     5\n",
      "f     6\n",
      "g     7\n",
      "h     8\n",
      "i     9\n",
      "j    10\n",
      "dtype: int64\n"
     ]
    }
   ],
   "source": [
    "def series(data):\n",
    "    s = pandas.Series(data)\n",
    "    return s\n",
    "\n",
    "def editseries(s):\n",
    "    s.index = ['a', 'b', 'c', 'd', 'e', 'f', 'g', 'h', 'i', 'j']\n",
    "    return s\n",
    "data = [1, 2, 3, 4, 5, 6, 7, 8, 9, 10]\n",
    "s = series(data)\n",
    "print(s)\n",
    "\n",
    "\n",
    "editseries(s)\n",
    "print(s)"
   ]
  },
  {
   "cell_type": "markdown",
   "metadata": {},
   "source": [
    "# Matplotlib"
   ]
  },
  {
   "cell_type": "code",
   "execution_count": 18,
   "metadata": {},
   "outputs": [
    {
     "data": {
      "image/png": "[encoded data removed]",
      "text/plain": [
       "<Figure size 640x480 with 1 Axes>"
      ]
     },
     "metadata": {},
     "output_type": "display_data"
    }
   ],
   "source": [
    "import matplotlib.pyplot as plt\n",
    "\n",
    "x = [1, 2, 3, 4, 5]\n",
    "y = [2, 4, 6, 8, 10]\n",
    "\n",
    "plt.plot(x, y)\n",
    "plt.xlabel('X-axis')\n",
    "plt.grid(True)\n",
    "plt.title('Line Plot')\n",
    "plt.ylabel('Y-axis')\n",
    "plt.show()\n"
   ]
  }
 ],
 "metadata": {
  "kernelspec": {
   "display_name": "Python 3",
   "language": "python",
   "name": "python3"
  },
  "language_info": {
   "codemirror_mode": {
    "name": "ipython",
    "version": 3
   },
   "file_extension": ".py",
   "mimetype": "text/x-python",
   "name": "python",
   "nbconvert_exporter": "python",
   "pygments_lexer": "ipython3",
   "version": "3.12.6"
  }
 },
 "nbformat": 4,
 "nbformat_minor": 2
}
