{
 "cells": [
  {
   "cell_type": "markdown",
   "metadata": {},
   "source": [
    "Create a program in python using a stack to implement a basic calculator. This program uses a stack to evaluate a mathematical expression entered by the user, recall the concept of stack and design a solution for parsing and evaluating expressions."
   ]
  },
  {
   "cell_type": "code",
   "execution_count": 38,
   "metadata": {},
   "outputs": [
    {
     "name": "stdout",
     "output_type": "stream",
     "text": [
      "Postfix Expression: ['69', '35', '24', '*', '+']\n",
      "Evaluated Result: 909\n"
     ]
    }
   ],
   "source": [
    "class Stack:\n",
    "    def __init__(self):\n",
    "        self.stack = []\n",
    "    def push(self, value):\n",
    "        self.stack.append(value)\n",
    "    def pop(self):\n",
    "        if not self.stack:\n",
    "            return None\n",
    "        return self.stack.pop()\n",
    "    def peek(self):\n",
    "        if not self.stack:\n",
    "            return None\n",
    "        return self.stack[-1]\n",
    "    def __str__(self):\n",
    "        return str(self.stack)\n",
    "\n",
    "def convertpostfix(expression):\n",
    "    precedence = {'+': 1, '-': 1, '*': 2, '/': 2}\n",
    "    postfix = []\n",
    "    operators = Stack()\n",
    "    tokens = []\n",
    "    number = ''\n",
    "    \n",
    "    for char in expression:\n",
    "        if char.isdigit():\n",
    "            number += char\n",
    "        else:\n",
    "            if number:\n",
    "                tokens.append(number)\n",
    "                number = ''\n",
    "            if char in '+-*/()':\n",
    "                tokens.append(char)\n",
    "    if number:\n",
    "        tokens.append(number)\n",
    "    \n",
    "    for token in tokens:\n",
    "        if token.isdigit():\n",
    "            postfix.append(token)\n",
    "        elif token == '(':\n",
    "            operators.push(token)\n",
    "        elif token == ')':\n",
    "            while operators.peek() != '(':\n",
    "                postfix.append(operators.pop())\n",
    "            operators.pop() \n",
    "        else:\n",
    "            while (operators.peek() is not None and \n",
    "                   operators.peek() != '(' and \n",
    "                   precedence[operators.peek()] >= precedence[token]):\n",
    "                postfix.append(operators.pop())\n",
    "            operators.push(token)\n",
    "    \n",
    "    while operators.peek() is not None:\n",
    "        postfix.append(operators.pop())\n",
    "    \n",
    "    return postfix\n",
    "\n",
    "def evaluate_postfix(postfix):\n",
    "    stack = Stack()\n",
    "    for token in postfix:\n",
    "        if token.isdigit():\n",
    "            stack.push(int(token))\n",
    "        else:\n",
    "            op2 = stack.pop()\n",
    "            op1 = stack.pop()\n",
    "            if token == '+':\n",
    "                stack.push(op1 + op2)\n",
    "            elif token == '-':\n",
    "                stack.push(op1 - op2)\n",
    "            elif token == '*':\n",
    "                stack.push(op1 * op2)\n",
    "            elif token == '/':\n",
    "                if op2 == 0:\n",
    "                    raise ZeroDivisionError('Division by zero')\n",
    "                stack.push(op1 / op2)\n",
    "    return stack.pop()\n",
    "\n",
    "expression = input(\"Enter a math equation: \")\n",
    "\n",
    "try:\n",
    "    postfix = convertpostfix(expression)\n",
    "    print(\"Postfix Expression:\", postfix)\n",
    "    print(\"Evaluated Result:\", evaluate_postfix(postfix))\n",
    "except ZeroDivisionError as e:\n",
    "    print(e)\n"
   ]
  }
 ],
 "metadata": {
  "kernelspec": {
   "display_name": "Python 3",
   "language": "python",
   "name": "python3"
  },
  "language_info": {
   "codemirror_mode": {
    "name": "ipython",
    "version": 3
   },
   "file_extension": ".py",
   "mimetype": "text/x-python",
   "name": "python",
   "nbconvert_exporter": "python",
   "pygments_lexer": "ipython3",
   "version": "3.12.6"
  }
 },
 "nbformat": 4,
 "nbformat_minor": 2
}
