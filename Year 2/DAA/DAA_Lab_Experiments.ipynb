{
 "cells": [
  {
   "cell_type": "markdown",
   "id": "bca3491c",
   "metadata": {},
   "source": [
    "### Experiment 1A: Bubble Sort"
   ]
  },
  {
   "cell_type": "code",
   "execution_count": null,
   "id": "102b2de1",
   "metadata": {},
   "outputs": [],
   "source": [
    "def bubble_sort(arr):\n",
    "    n = len(arr)\n",
    "    for i in range(n):\n",
    "        for j in range(0, n-i-1):\n",
    "            if arr[j] > arr[j+1]:\n",
    "                arr[j], arr[j+1] = arr[j+1], arr[j]\n",
    "    return arr\n",
    "\n",
    "print(bubble_sort([5, 2, 9, 1, 5, 6]))"
   ]
  },
  {
   "cell_type": "markdown",
   "id": "1803832d",
   "metadata": {},
   "source": [
    "### Experiment 1B: Selection Sort"
   ]
  },
  {
   "cell_type": "code",
   "execution_count": null,
   "id": "cc668d59",
   "metadata": {},
   "outputs": [],
   "source": [
    "def selection_sort(arr):\n",
    "    n = len(arr)\n",
    "    for i in range(n):\n",
    "        min_idx = i\n",
    "        for j in range(i+1, n):\n",
    "            if arr[j] < arr[min_idx]:\n",
    "                min_idx = j\n",
    "        arr[i], arr[min_idx] = arr[min_idx], arr[i]\n",
    "    return arr\n",
    "\n",
    "print(selection_sort([64, 25, 12, 22, 11]))"
   ]
  },
  {
   "cell_type": "markdown",
   "id": "31369f28",
   "metadata": {},
   "source": [
    "### Experiment 1C: Insertion Sort"
   ]
  },
  {
   "cell_type": "code",
   "execution_count": null,
   "id": "8ef59667",
   "metadata": {},
   "outputs": [],
   "source": [
    "def insertion_sort(arr):\n",
    "    for i in range(1, len(arr)):\n",
    "        key = arr[i]\n",
    "        j = i - 1\n",
    "        while j >= 0 and key < arr[j]:\n",
    "            arr[j + 1] = arr[j]\n",
    "            j -= 1\n",
    "        arr[j + 1] = key\n",
    "    return arr\n",
    "\n",
    "print(insertion_sort([12, 11, 13, 5, 6]))"
   ]
  },
  {
   "cell_type": "markdown",
   "id": "55c22a52",
   "metadata": {},
   "source": [
    "### Experiment 2A: Linear Search"
   ]
  },
  {
   "cell_type": "code",
   "execution_count": null,
   "id": "7b55e9a9",
   "metadata": {},
   "outputs": [],
   "source": [
    "def linear_search(arr, x):\n",
    "    for i in range(len(arr)):\n",
    "        if arr[i] == x:\n",
    "            return i\n",
    "    return -1\n",
    "\n",
    "print(linear_search([2, 3, 4, 10, 40], 10))"
   ]
  },
  {
   "cell_type": "markdown",
   "id": "afad5195",
   "metadata": {},
   "source": [
    "### Experiment 2B: Binary Search"
   ]
  },
  {
   "cell_type": "code",
   "execution_count": null,
   "id": "d69a14e1",
   "metadata": {},
   "outputs": [],
   "source": [
    "def binary_search(arr, x):\n",
    "    low, high = 0, len(arr) - 1\n",
    "    while low <= high:\n",
    "        mid = (low + high) // 2\n",
    "        if arr[mid] == x:\n",
    "            return mid\n",
    "        elif arr[mid] < x:\n",
    "            low = mid + 1\n",
    "        else:\n",
    "            high = mid - 1\n",
    "    return -1\n",
    "\n",
    "print(binary_search([2, 3, 4, 10, 40], 10))"
   ]
  },
  {
   "cell_type": "markdown",
   "id": "77c9fce4",
   "metadata": {},
   "source": [
    "### Experiment 3A: Merge Sort"
   ]
  },
  {
   "cell_type": "code",
   "execution_count": null,
   "id": "bb32c014",
   "metadata": {},
   "outputs": [],
   "source": [
    "def merge_sort(arr):\n",
    "    if len(arr) > 1:\n",
    "        mid = len(arr)//2\n",
    "        L = arr[:mid]\n",
    "        R = arr[mid:]\n",
    "\n",
    "        merge_sort(L)\n",
    "        merge_sort(R)\n",
    "\n",
    "        i = j = k = 0\n",
    "        while i < len(L) and j < len(R):\n",
    "            if L[i] < R[j]:\n",
    "                arr[k] = L[i]\n",
    "                i += 1\n",
    "            else:\n",
    "                arr[k] = R[j]\n",
    "                j += 1\n",
    "            k += 1\n",
    "\n",
    "        while i < len(L):\n",
    "            arr[k] = L[i]\n",
    "            i += 1\n",
    "            k += 1\n",
    "        while j < len(R):\n",
    "            arr[k] = R[j]\n",
    "            j += 1\n",
    "            k += 1\n",
    "    return arr\n",
    "\n",
    "print(merge_sort([12, 11, 13, 5, 6, 7]))"
   ]
  },
  {
   "cell_type": "markdown",
   "id": "e2d97ffb",
   "metadata": {},
   "source": [
    "### Experiment 3B: Quick Sort"
   ]
  },
  {
   "cell_type": "code",
   "execution_count": null,
   "id": "062557a1",
   "metadata": {},
   "outputs": [],
   "source": [
    "def quick_sort(arr):\n",
    "    if len(arr) <= 1:\n",
    "        return arr\n",
    "    pivot = arr[len(arr)//2]\n",
    "    left = [x for x in arr if x < pivot]\n",
    "    middle = [x for x in arr if x == pivot]\n",
    "    right = [x for x in arr if x > pivot]\n",
    "    return quick_sort(left) + middle + quick_sort(right)\n",
    "\n",
    "print(quick_sort([3,6,8,10,1,2,1]))"
   ]
  },
  {
   "cell_type": "markdown",
   "id": "ffc1abcd",
   "metadata": {},
   "source": [
    "### Experiment 3C: Heap Sort"
   ]
  },
  {
   "cell_type": "code",
   "execution_count": null,
   "id": "7d64fdb9",
   "metadata": {},
   "outputs": [],
   "source": [
    "def heapify(arr, n, i):\n",
    "    largest = i\n",
    "    l = 2*i + 1\n",
    "    r = 2*i + 2\n",
    "\n",
    "    if l < n and arr[l] > arr[largest]:\n",
    "        largest = l\n",
    "    if r < n and arr[r] > arr[largest]:\n",
    "        largest = r\n",
    "    if largest != i:\n",
    "        arr[i], arr[largest] = arr[largest], arr[i]\n",
    "        heapify(arr, n, largest)\n",
    "\n",
    "def heap_sort(arr):\n",
    "    n = len(arr)\n",
    "    for i in range(n//2 - 1, -1, -1):\n",
    "        heapify(arr, n, i)\n",
    "    for i in range(n-1, 0, -1):\n",
    "        arr[i], arr[0] = arr[0], arr[i]\n",
    "        heapify(arr, i, 0)\n",
    "    return arr\n",
    "\n",
    "print(heap_sort([12, 11, 13, 5, 6, 7]))"
   ]
  },
  {
   "cell_type": "markdown",
   "id": "0e78e874",
   "metadata": {},
   "source": [
    "### Experiment 9A: N-Queens Problem"
   ]
  },
  {
   "cell_type": "code",
   "execution_count": null,
   "id": "37e5abe8",
   "metadata": {},
   "outputs": [],
   "source": [
    "def is_safe(board, row, col, n):\n",
    "    for i in range(row):\n",
    "        if board[i][col] == 1:\n",
    "            return False\n",
    "    for i, j in zip(range(row-1, -1, -1), range(col-1, -1, -1)):\n",
    "        if board[i][j] == 1:\n",
    "            return False\n",
    "    for i, j in zip(range(row-1, -1, -1), range(col+1, n)):\n",
    "        if board[i][j] == 1:\n",
    "            return False\n",
    "    return True\n",
    "\n",
    "def solve(board, row, n):\n",
    "    if row == n:\n",
    "        for r in board:\n",
    "            print(r)\n",
    "        print()\n",
    "        return True\n",
    "    for col in range(n):\n",
    "        if is_safe(board, row, col, n):\n",
    "            board[row][col] = 1\n",
    "            if solve(board, row+1, n):\n",
    "                return True\n",
    "            board[row][col] = 0\n",
    "    return False\n",
    "\n",
    "n = 4\n",
    "board = [[0]*n for _ in range(n)]\n",
    "solve(board, 0, n)"
   ]
  },
  {
   "cell_type": "markdown",
   "id": "d0d3e184",
   "metadata": {},
   "source": [
    "### Experiment 9B: Sum of Subsets Problem"
   ]
  },
  {
   "cell_type": "code",
   "execution_count": null,
   "id": "554bb2c8",
   "metadata": {},
   "outputs": [],
   "source": [
    "def subset_sum(arr, n, index, target, subset):\n",
    "    if target == 0:\n",
    "        print(subset)\n",
    "        return\n",
    "    if index == n or target < 0:\n",
    "        return\n",
    "    subset_sum(arr, n, index+1, target - arr[index], subset + [arr[index]])\n",
    "    subset_sum(arr, n, index+1, target, subset)\n",
    "\n",
    "arr = [3, 4, 5, 2]\n",
    "target = 7\n",
    "subset_sum(arr, len(arr), 0, target, [])"
   ]
  }
 ],
 "metadata": {
  "language_info": {
   "name": "python"
  }
 },
 "nbformat": 4,
 "nbformat_minor": 5
}
