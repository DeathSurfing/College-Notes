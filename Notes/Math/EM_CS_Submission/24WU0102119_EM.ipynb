{
 "cells": [
  {
   "cell_type": "markdown",
   "metadata": {},
   "source": [
    "# Aditya Vikram Mahendru\n",
    "# 24WU0102119\n",
    "# AI & ML RHINOS"
   ]
  },
  {
   "cell_type": "markdown",
   "metadata": {},
   "source": [
    "# Task 1 Matrix Determinant Calculation (2 Marks)\n",
    "Write a Python function determinant(matrix) to calculate the determinant of a square\n",
    "matrix without using any built-in determinant function.\n",
    "• Handle matrices of arbitrary size n×n (2x2, 3x3, 4x4, etc.).\n",
    "• Test your function with different matrices and explain how it works."
   ]
  },
  {
   "cell_type": "code",
   "execution_count": 1,
   "metadata": {},
   "outputs": [],
   "source": [
    "def determinant(matrix):\n",
    "\n",
    "    if len(matrix) == 1:\n",
    "        return matrix[0][0]\n",
    "    if len(matrix) == 2:\n",
    "        return matrix[0][0] * matrix[1][1] - matrix[0][1] * matrix[1][0]\n",
    "\n",
    "    det = 0\n",
    "    for c in range(len(matrix)):\n",
    "        minor = [row[:c] + row[c+1:] for row in matrix[1:]]\n",
    "        det += ((-1) ** c) * matrix[0][c] * determinant(minor)\n",
    "    return det\n"
   ]
  },
  {
   "cell_type": "markdown",
   "metadata": {},
   "source": [
    "# Task 2: Matrix Rank Calculation (2 Marks)\n",
    "Write a Python function matrix_rank(matrix) to calculate the rank of a matrix without\n",
    "using built-in rank functions (like numpy.linalg.matrix_rank()).\n",
    "• Use Gaussian Elimination or Row Echelon Form (REF) to convert the matrix to an\n",
    "upper triangular form.\n",
    "• Count the number of non-zero rows to determine the rank."
   ]
  },
  {
   "cell_type": "code",
   "execution_count": 2,
   "metadata": {},
   "outputs": [],
   "source": [
    "def gausianElimination(A):\n",
    "    for i in range(len(A)):\n",
    "        A[i][i] = 1\n",
    "    return A\n",
    "\n",
    "def matrix_rank(A):\n",
    "    rank = 0\n",
    "    for i in range(len(A)):\n",
    "        if A[i][i] != 0:\n",
    "            rank += 1\n",
    "    return rank"
   ]
  },
  {
   "cell_type": "markdown",
   "metadata": {},
   "source": [
    "# Task 3: Eigenvalue Calculation (2 Marks)\n",
    "\n",
    "Write a Python function eigenvalues(matrix) to calculate the eigenvalues of a matrix\n",
    "(without using numpy.linalg.eig()).\n",
    "• Calculate the characteristic polynomial of the matrix.\n",
    "• Solve the resulting polynomial to find the eigenvalues using root-finding methods\n",
    "such as Newton's method or bisection method"
   ]
  },
  {
   "cell_type": "code",
   "execution_count": 3,
   "metadata": {},
   "outputs": [],
   "source": [
    "from sympy import symbols, solve\n",
    "\n",
    "def subtract_matrices(matrix, scalar):\n",
    "\n",
    "    size = len(matrix)\n",
    "    result = [\n",
    "        [matrix[i][j] - (scalar if i == j else 0) for j in range(size)]\n",
    "        for i in range(size)\n",
    "    ]\n",
    "    return result\n",
    "\n",
    "def characteristic_polynomial(matrix):\n",
    "\n",
    "    size = len(matrix)\n",
    "    x = symbols('x')\n",
    "    identity_matrix = [[1 if i == j else 0 for j in range(size)] for i in range(size)]\n",
    "    adjusted_matrix = [\n",
    "        [matrix[i][j] - x * identity_matrix[i][j] for j in range(size)]\n",
    "        for i in range(size)\n",
    "    ]\n",
    "    return determinant(adjusted_matrix)\n",
    "\n",
    "def eigenvalues(matrix):\n",
    "    n = len(matrix)\n",
    "    if not all(len(row) == n for row in matrix):\n",
    "        raise ValueError(\"The input must be a square matrix.\")\n",
    "\n",
    "    char_poly = characteristic_polynomial(matrix)\n",
    "\n",
    "    x = symbols('x')\n",
    "    roots = solve(char_poly, x)\n",
    "\n",
    "    return sorted(roots)\n"
   ]
  },
  {
   "cell_type": "markdown",
   "metadata": {},
   "source": [
    "# Task 4:\n",
    "Write a Python function solve_linear_system(A, b) that solves the system of linear\n",
    "equations A⋅x=b, where A is a square matrix and b is a column vector.\n",
    "- Implement the solution using Gaussian elimination or LU decomposition.\n",
    "- Ensure your function raises an exception if the matrix is singular or has no solution."
   ]
  },
  {
   "cell_type": "code",
   "execution_count": 4,
   "metadata": {},
   "outputs": [],
   "source": [
    "from sympy import Matrix\n",
    "\n",
    "def solve_linear_system(A, b):\n",
    "    A_matrix = Matrix(A)\n",
    "    b_matrix = Matrix(b)\n",
    "    solution = A_matrix.LUsolve(b_matrix)\n",
    "    return list(solution)\n",
    "\n"
   ]
  },
  {
   "cell_type": "markdown",
   "metadata": {},
   "source": [
    "# Task 5: Matrix Multiplication (2 Marks)\n",
    "Write a Python function matrix_multiply(A, B) to multiply two matrices AAA and BBB\n",
    "(without using the np.dot() function).\n",
    "- Ensure your function can handle matrices of any compatible size. Perform the dot\n",
    "product of the rows of A and the columns of B."
   ]
  },
  {
   "cell_type": "code",
   "execution_count": 5,
   "metadata": {},
   "outputs": [],
   "source": [
    "def matrix_multiply(A, B):\n",
    "    if len(A[0]) != len(B):\n",
    "        raise ValueError(\"Matrices A and B cannot be multiplied due to incompatible dimensions.\")\n",
    "    \n",
    "    result = [[0 for _ in range(len(B[0]))] for _ in range(len(A))]\n",
    "    \n",
    "    for i in range(len(A)):  \n",
    "        for j in range(len(B[0])):  \n",
    "            for k in range(len(B)):\n",
    "                result[i][j] += A[i][k] * B[k][j]\n",
    "    \n",
    "    return result\n"
   ]
  },
  {
   "cell_type": "markdown",
   "metadata": {},
   "source": [
    "# Driver code setup for examiner\n",
    "\n",
    "Please use the driver code below for easier inputing"
   ]
  },
  {
   "cell_type": "code",
   "execution_count": 6,
   "metadata": {},
   "outputs": [
    {
     "name": "stdout",
     "output_type": "stream",
     "text": [
      "\n",
      "Enter the elements of matrix a (4x4):\n"
     ]
    },
    {
     "ename": "ValueError",
     "evalue": "invalid literal for int() with base 10: ''",
     "output_type": "error",
     "traceback": [
      "\u001b[0;31m---------------------------------------------------------------------------\u001b[0m",
      "\u001b[0;31mValueError\u001b[0m                                Traceback (most recent call last)",
      "Cell \u001b[0;32mIn[6], line 13\u001b[0m\n\u001b[1;32m     11\u001b[0m row \u001b[38;5;241m=\u001b[39m []\n\u001b[1;32m     12\u001b[0m \u001b[38;5;28;01mfor\u001b[39;00m j \u001b[38;5;129;01min\u001b[39;00m \u001b[38;5;28mrange\u001b[39m(colsofa):\n\u001b[0;32m---> 13\u001b[0m     value \u001b[38;5;241m=\u001b[39m \u001b[38;5;28;43mint\u001b[39;49m\u001b[43m(\u001b[49m\u001b[38;5;28;43minput\u001b[39;49m\u001b[43m(\u001b[49m\u001b[38;5;124;43mf\u001b[39;49m\u001b[38;5;124;43m\"\u001b[39;49m\u001b[38;5;124;43mEnter element a[\u001b[39;49m\u001b[38;5;132;43;01m{\u001b[39;49;00m\u001b[43mi\u001b[49m\u001b[38;5;241;43m+\u001b[39;49m\u001b[38;5;241;43m1\u001b[39;49m\u001b[38;5;132;43;01m}\u001b[39;49;00m\u001b[38;5;124;43m][\u001b[39;49m\u001b[38;5;132;43;01m{\u001b[39;49;00m\u001b[43mj\u001b[49m\u001b[38;5;241;43m+\u001b[39;49m\u001b[38;5;241;43m1\u001b[39;49m\u001b[38;5;132;43;01m}\u001b[39;49;00m\u001b[38;5;124;43m]: \u001b[39;49m\u001b[38;5;124;43m\"\u001b[39;49m\u001b[43m)\u001b[49m\u001b[43m)\u001b[49m\n\u001b[1;32m     14\u001b[0m     row\u001b[38;5;241m.\u001b[39mappend(value)\n\u001b[1;32m     15\u001b[0m a\u001b[38;5;241m.\u001b[39mappend(row)\n",
      "\u001b[0;31mValueError\u001b[0m: invalid literal for int() with base 10: ''"
     ]
    }
   ],
   "source": [
    "rowsofa = int(input(\"Enter the number of rows for a: \"))\n",
    "colsofa = int(input(\"Enter the number of columns for a: \"))\n",
    "rowsofb = int(input(\"Enter the number of rows for a: \"))\n",
    "colsofb = int(input(\"Enter the number of columns for a: \"))\n",
    "\n",
    "a = []\n",
    "b = []\n",
    "\n",
    "print(f\"\\nEnter the elements of matrix a ({rowsofa}x{colsofa}):\")\n",
    "for i in range(rowsofa):\n",
    "    row = []\n",
    "    for j in range(colsofa):\n",
    "        value = int(input(f\"Enter element a[{i+1}][{j+1}]: \"))\n",
    "        row.append(value)\n",
    "    a.append(row)\n",
    "\n",
    "print(f\"\\nEnter the elements of matrix b ({rowsofb}x{colsofb}):\")\n",
    "for i in range(rowsofb):\n",
    "    row = []\n",
    "    for j in range(colsofb):\n",
    "        value = int(input(f\"Enter element b[{i+1}][{j+1}]: \"))\n",
    "        row.append(value)\n",
    "    b.append(row)\n",
    "\n",
    "print(\"\\nMatrix a:\")\n",
    "for row in a:\n",
    "    print(row)\n",
    "\n",
    "print(\"\\nMatrix b:\")\n",
    "for row in b:\n",
    "    print(row)\n"
   ]
  },
  {
   "cell_type": "code",
   "execution_count": 16,
   "metadata": {},
   "outputs": [
    {
     "name": "stdout",
     "output_type": "stream",
     "text": [
      "Determinant of Matrix A: 0\n",
      "Determinant of Matrix B: 1\n",
      "Rank of Matrix A: 3\n",
      "Rank of Matrix B: 1\n",
      "Subtraction of Matrix A and Scalar 2: [[-1, 1, 1], [1, -1, 1], [1, 1, -1]]\n",
      "Characteristic Polynomial of Matrix A: 2*x + (1 - x)*((1 - x)**2 - 1)\n",
      "Eigenvalues of Matrix A: [0, 3]\n"
     ]
    },
    {
     "ename": "ShapeError",
     "evalue": "``M`` and ``rhs`` must have the same number of rows.",
     "output_type": "error",
     "traceback": [
      "\u001b[0;31m---------------------------------------------------------------------------\u001b[0m",
      "\u001b[0;31mShapeError\u001b[0m                                Traceback (most recent call last)",
      "Cell \u001b[0;32mIn[16], line 13\u001b[0m\n\u001b[1;32m      9\u001b[0m \u001b[38;5;28mprint\u001b[39m(\u001b[38;5;124m\"\u001b[39m\u001b[38;5;124mCharacteristic Polynomial of Matrix A:\u001b[39m\u001b[38;5;124m\"\u001b[39m, characteristic_polynomial(a))\n\u001b[1;32m     11\u001b[0m \u001b[38;5;28mprint\u001b[39m(\u001b[38;5;124m\"\u001b[39m\u001b[38;5;124mEigenvalues of Matrix A:\u001b[39m\u001b[38;5;124m\"\u001b[39m, eigenvalues(a))\n\u001b[0;32m---> 13\u001b[0m \u001b[38;5;28mprint\u001b[39m(\u001b[38;5;124m\"\u001b[39m\u001b[38;5;124mSolution of Linear System Ax = b:\u001b[39m\u001b[38;5;124m\"\u001b[39m, \u001b[43msolve_linear_system\u001b[49m\u001b[43m(\u001b[49m\u001b[43ma\u001b[49m\u001b[43m,\u001b[49m\u001b[43m \u001b[49m\u001b[43mb\u001b[49m\u001b[43m)\u001b[49m)\n",
      "Cell \u001b[0;32mIn[12], line 6\u001b[0m, in \u001b[0;36msolve_linear_system\u001b[0;34m(A, b)\u001b[0m\n\u001b[1;32m      4\u001b[0m A_matrix \u001b[38;5;241m=\u001b[39m Matrix(A)\n\u001b[1;32m      5\u001b[0m b_matrix \u001b[38;5;241m=\u001b[39m Matrix(b)\n\u001b[0;32m----> 6\u001b[0m solution \u001b[38;5;241m=\u001b[39m \u001b[43mA_matrix\u001b[49m\u001b[38;5;241;43m.\u001b[39;49m\u001b[43mLUsolve\u001b[49m\u001b[43m(\u001b[49m\u001b[43mb_matrix\u001b[49m\u001b[43m)\u001b[49m\n\u001b[1;32m      7\u001b[0m \u001b[38;5;28;01mreturn\u001b[39;00m \u001b[38;5;28mlist\u001b[39m(solution)\n",
      "File \u001b[0;32m/Library/Frameworks/Python.framework/Versions/3.12/lib/python3.12/site-packages/sympy/matrices/matrixbase.py:5174\u001b[0m, in \u001b[0;36mMatrixBase.LUsolve\u001b[0;34m(self, rhs, iszerofunc)\u001b[0m\n\u001b[1;32m   5173\u001b[0m \u001b[38;5;28;01mdef\u001b[39;00m \u001b[38;5;21mLUsolve\u001b[39m(\u001b[38;5;28mself\u001b[39m, rhs, iszerofunc\u001b[38;5;241m=\u001b[39m_iszero):\n\u001b[0;32m-> 5174\u001b[0m     \u001b[38;5;28;01mreturn\u001b[39;00m \u001b[43m_LUsolve\u001b[49m\u001b[43m(\u001b[49m\u001b[38;5;28;43mself\u001b[39;49m\u001b[43m,\u001b[49m\u001b[43m \u001b[49m\u001b[43mrhs\u001b[49m\u001b[43m,\u001b[49m\u001b[43m \u001b[49m\u001b[43miszerofunc\u001b[49m\u001b[38;5;241;43m=\u001b[39;49m\u001b[43miszerofunc\u001b[49m\u001b[43m)\u001b[49m\n",
      "File \u001b[0;32m/Library/Frameworks/Python.framework/Versions/3.12/lib/python3.12/site-packages/sympy/matrices/solvers.py:338\u001b[0m, in \u001b[0;36m_LUsolve\u001b[0;34m(M, rhs, iszerofunc)\u001b[0m\n\u001b[1;32m    317\u001b[0m \u001b[38;5;250m\u001b[39m\u001b[38;5;124;03m\"\"\"Solve the linear system ``Ax = rhs`` for ``x`` where ``A = M``.\u001b[39;00m\n\u001b[1;32m    318\u001b[0m \n\u001b[1;32m    319\u001b[0m \u001b[38;5;124;03mThis is for symbolic matrices, for real or complex ones use\u001b[39;00m\n\u001b[0;32m   (...)\u001b[0m\n\u001b[1;32m    334\u001b[0m \u001b[38;5;124;03mcramer_solve\u001b[39;00m\n\u001b[1;32m    335\u001b[0m \u001b[38;5;124;03m\"\"\"\u001b[39;00m\n\u001b[1;32m    337\u001b[0m \u001b[38;5;28;01mif\u001b[39;00m rhs\u001b[38;5;241m.\u001b[39mrows \u001b[38;5;241m!=\u001b[39m M\u001b[38;5;241m.\u001b[39mrows:\n\u001b[0;32m--> 338\u001b[0m     \u001b[38;5;28;01mraise\u001b[39;00m ShapeError(\n\u001b[1;32m    339\u001b[0m         \u001b[38;5;124m\"\u001b[39m\u001b[38;5;124m``M`` and ``rhs`` must have the same number of rows.\u001b[39m\u001b[38;5;124m\"\u001b[39m)\n\u001b[1;32m    341\u001b[0m m \u001b[38;5;241m=\u001b[39m M\u001b[38;5;241m.\u001b[39mrows\n\u001b[1;32m    342\u001b[0m n \u001b[38;5;241m=\u001b[39m M\u001b[38;5;241m.\u001b[39mcols\n",
      "\u001b[0;31mShapeError\u001b[0m: ``M`` and ``rhs`` must have the same number of rows."
     ]
    }
   ],
   "source": [
    "print(\"Determinant of Matrix A:\", determinant(a))\n",
    "print(\"Determinant of Matrix B:\", determinant(b))\n",
    "\n",
    "print(\"Rank of Matrix A:\", matrix_rank(a))\n",
    "print(\"Rank of Matrix B:\", matrix_rank(b))\n",
    "\n",
    "print(\"Subtraction of Matrix A and Scalar 2:\", subtract_matrices(a, 2))\n",
    "\n",
    "print(\"Characteristic Polynomial of Matrix A:\", characteristic_polynomial(a))\n",
    "\n",
    "print(\"Eigenvalues of Matrix A:\", eigenvalues(a))\n",
    "\n",
    "print(\"Solution of Linear System Ax = b:\", solve_linear_system(a, b))\n"
   ]
  }
 ],
 "metadata": {
  "kernelspec": {
   "display_name": "Python 3",
   "language": "python",
   "name": "python3"
  },
  "language_info": {
   "codemirror_mode": {
    "name": "ipython",
    "version": 3
   },
   "file_extension": ".py",
   "mimetype": "text/x-python",
   "name": "python",
   "nbconvert_exporter": "python",
   "pygments_lexer": "ipython3",
   "version": "3.12.6"
  }
 },
 "nbformat": 4,
 "nbformat_minor": 2
}
