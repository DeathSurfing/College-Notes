{
 "cells": [
  {
   "cell_type": "code",
   "execution_count": 22,
   "metadata": {},
   "outputs": [],
   "source": [
    "# Driver Code please ignore\n",
    "matrix= [[1,2,3],[4,5,6],[7,8,9]] \n"
   ]
  },
  {
   "cell_type": "markdown",
   "metadata": {},
   "source": [
    "# Task 1 Matrix Determinant Calculation (2 Marks)\n",
    "Write a Python function determinant(matrix) to calculate the determinant of a square\n",
    "matrix without using any built-in determinant function.\n",
    "• Handle matrices of arbitrary size n×n (2x2, 3x3, 4x4, etc.).\n",
    "• Test your function with different matrices and explain how it works."
   ]
  },
  {
   "cell_type": "code",
   "execution_count": 23,
   "metadata": {},
   "outputs": [
    {
     "name": "stdout",
     "output_type": "stream",
     "text": [
      "45\n"
     ]
    }
   ],
   "source": [
    "def detcalculator(A):\n",
    "    det = 1\n",
    "    for i in range(len(A)):\n",
    "        det *= A[i][i]\n",
    "    return det\n",
    "\n",
    "print(detcalculator(matrix))\n",
    "\n",
    "\n"
   ]
  },
  {
   "cell_type": "markdown",
   "metadata": {},
   "source": [
    "# Task 2: Matrix Rank Calculation (2 Marks)\n",
    "Write a Python function matrix_rank(matrix) to calculate the rank of a matrix without\n",
    "using built-in rank functions (like numpy.linalg.matrix_rank()).\n",
    "• Use Gaussian Elimination or Row Echelon Form (REF) to convert the matrix to an\n",
    "upper triangular form.\n",
    "• Count the number of non-zero rows to determine the rank."
   ]
  },
  {
   "cell_type": "code",
   "execution_count": 24,
   "metadata": {},
   "outputs": [
    {
     "name": "stdout",
     "output_type": "stream",
     "text": [
      "3\n"
     ]
    }
   ],
   "source": [
    "def gausianElimination(A):\n",
    "    for i in range(len(A)):\n",
    "        A[i][i] = 1\n",
    "    return A\n",
    "\n",
    "def matrix_rank(A):\n",
    "    rank = 0\n",
    "    for i in range(len(A)):\n",
    "        if A[i][i] != 0:\n",
    "            rank += 1\n",
    "    return rank\n",
    "\n",
    "print(matrix_rank(matrix))"
   ]
  },
  {
   "cell_type": "markdown",
   "metadata": {},
   "source": [
    "# Task 3: Eigenvalue Calculation (2 Marks)\n",
    "\n",
    "Write a Python function eigenvalues(matrix) to calculate the eigenvalues of a matrix\n",
    "(without using numpy.linalg.eig()).\n",
    "• Calculate the characteristic polynomial of the matrix.\n",
    "• Solve the resulting polynomial to find the eigenvalues using root-finding methods\n",
    "such as Newton's method or bisection method"
   ]
  },
  {
   "cell_type": "code",
   "execution_count": 25,
   "metadata": {},
   "outputs": [
    {
     "ename": "SyntaxError",
     "evalue": "invalid syntax (3844710036.py, line 3)",
     "output_type": "error",
     "traceback": [
      "\u001b[0;36m  Cell \u001b[0;32mIn[25], line 3\u001b[0;36m\u001b[0m\n\u001b[0;31m    lambdavalues[] = A[i][i]\u001b[0m\n\u001b[0m                 ^\u001b[0m\n\u001b[0;31mSyntaxError\u001b[0m\u001b[0;31m:\u001b[0m invalid syntax\n"
     ]
    }
   ],
   "source": [
    "def findcharectersiticequation(A):\n",
    "    for i in range(len(A)):\n",
    "        lambdavalues[] = A[i][i] \n",
    "    return A\n",
    "\n",
    "\n",
    "findcharectersiticequation(matrix)\n",
    "\n",
    "              \n",
    "    "
   ]
  },
  {
   "cell_type": "code",
   "execution_count": null,
   "metadata": {},
   "outputs": [],
   "source": [
    "import numpy as np\n",
    "import matplotlib.pyplot as plt\n",
    "\n",
    "# Data from the tables\n",
    "inverse_temperature = np.array([0.002914, 0.002957, 0.003002, 0.003047, 0.003095, 0.003143, 0.003193, 0.003245])\n",
    "ln_resistance = np.array([8.3408, 8.3706, 8.2799, 8.3771, 8.4609, 8.5396, 8.6111, 8.6194])\n",
    "\n",
    "# Create the plot\n",
    "plt.figure(figsize=(10, 6))\n",
    "plt.plot(inverse_temperature, ln_resistance, 'ro-')  # Red color, points and lines\n",
    "plt.title('Natural Logarithm of Resistance vs Inverse Temperature', fontsize=14)\n",
    "plt.xlabel('1/T (K⁻¹)', fontsize=12)\n",
    "plt.ylabel('ln(R)', fontsize=12)\n",
    "plt.grid(True, linestyle='--', alpha=0.7)\n",
    "\n",
    "# Perform linear regression\n",
    "slope, intercept = np.polyfit(inverse_temperature, ln_resistance, 1)\n",
    "line = slope * inverse_temperature + intercept\n",
    "plt.plot(inverse_temperature, line, 'b--', label=f'Linear Fit: y = {slope:.4f}x + {intercept:.4f}')\n",
    "\n",
    "plt.legend()\n",
    "plt.tight_layout()\n",
    "plt.show()\n",
    "\n",
    "# Print the linear regression results\n",
    "print(f\"Slope: {slope}\")\n",
    "print(f\"Intercept: {intercept}\")"
   ]
  }
 ],
 "metadata": {
  "kernelspec": {
   "display_name": "Python 3",
   "language": "python",
   "name": "python3"
  },
  "language_info": {
   "codemirror_mode": {
    "name": "ipython",
    "version": 3
   },
   "file_extension": ".py",
   "mimetype": "text/x-python",
   "name": "python",
   "nbconvert_exporter": "python",
   "pygments_lexer": "ipython3",
   "version": "3.12.6"
  }
 },
 "nbformat": 4,
 "nbformat_minor": 2
}
