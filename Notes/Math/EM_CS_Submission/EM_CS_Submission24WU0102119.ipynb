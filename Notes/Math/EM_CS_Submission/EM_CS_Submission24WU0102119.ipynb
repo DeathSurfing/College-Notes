{
 "cells": [
  {
   "cell_type": "code",
   "execution_count": 12,
   "metadata": {},
   "outputs": [],
   "source": [
    "# Driver Code please ignore\n",
    "matrix= [[1,2,3],[4,5,6],[7,8,9]] \n"
   ]
  },
  {
   "cell_type": "markdown",
   "metadata": {},
   "source": [
    "# Task 1 Matrix Determinant Calculation (2 Marks)\n",
    "Write a Python function determinant(matrix) to calculate the determinant of a square\n",
    "matrix without using any built-in determinant function.\n",
    "• Handle matrices of arbitrary size n×n (2x2, 3x3, 4x4, etc.).\n",
    "• Test your function with different matrices and explain how it works."
   ]
  },
  {
   "cell_type": "code",
   "execution_count": 13,
   "metadata": {},
   "outputs": [
    {
     "name": "stdout",
     "output_type": "stream",
     "text": [
      "45\n"
     ]
    }
   ],
   "source": [
    "def detcalculator(A):\n",
    "    det = 1\n",
    "    for i in range(len(A)):\n",
    "        det *= A[i][i]\n",
    "    return det\n",
    "\n",
    "print(detcalculator(matrix))\n",
    "\n",
    "\n"
   ]
  },
  {
   "cell_type": "markdown",
   "metadata": {},
   "source": [
    "# Task 2: Matrix Rank Calculation (2 Marks)\n",
    "Write a Python function matrix_rank(matrix) to calculate the rank of a matrix without\n",
    "using built-in rank functions (like numpy.linalg.matrix_rank()).\n",
    "• Use Gaussian Elimination or Row Echelon Form (REF) to convert the matrix to an\n",
    "upper triangular form.\n",
    "• Count the number of non-zero rows to determine the rank."
   ]
  },
  {
   "cell_type": "code",
   "execution_count": 14,
   "metadata": {},
   "outputs": [
    {
     "name": "stdout",
     "output_type": "stream",
     "text": [
      "3\n"
     ]
    }
   ],
   "source": [
    "def gausianElimination(A):\n",
    "    for i in range(len(A)):\n",
    "        A[i][i] = 1\n",
    "    return A\n",
    "\n",
    "def matrix_rank(A):\n",
    "    rank = 0\n",
    "    for i in range(len(A)):\n",
    "        if A[i][i] != 0:\n",
    "            rank += 1\n",
    "    return rank\n",
    "\n",
    "print(matrix_rank(matrix))"
   ]
  },
  {
   "cell_type": "markdown",
   "metadata": {},
   "source": [
    "# Task 3: Eigenvalue Calculation (2 Marks)\n",
    "\n",
    "Write a Python function eigenvalues(matrix) to calculate the eigenvalues of a matrix\n",
    "(without using numpy.linalg.eig()).\n",
    "• Calculate the characteristic polynomial of the matrix.\n",
    "• Solve the resulting polynomial to find the eigenvalues using root-finding methods\n",
    "such as Newton's method or bisection method"
   ]
  },
  {
   "cell_type": "code",
   "execution_count": 18,
   "metadata": {},
   "outputs": [
    {
     "data": {
      "text/plain": [
       "[[1, 2, 3], [4, 1, 6], [7, 8, 1]]"
      ]
     },
     "execution_count": 18,
     "metadata": {},
     "output_type": "execute_result"
    }
   ],
   "source": [
    "def findcharectersiticequation(A):\n",
    "    for i in range(len(A)):\n",
    "        lambdavalues[] = A[i][i] \n",
    "    return A\n",
    "\n",
    "\n",
    "findcharectersiticequation(matrix)\n",
    "\n",
    "              \n",
    "    "
   ]
  }
 ],
 "metadata": {
  "kernelspec": {
   "display_name": "Python 3",
   "language": "python",
   "name": "python3"
  },
  "language_info": {
   "codemirror_mode": {
    "name": "ipython",
    "version": 3
   },
   "file_extension": ".py",
   "mimetype": "text/x-python",
   "name": "python",
   "nbconvert_exporter": "python",
   "pygments_lexer": "ipython3",
   "version": "3.12.6"
  }
 },
 "nbformat": 4,
 "nbformat_minor": 2
}
